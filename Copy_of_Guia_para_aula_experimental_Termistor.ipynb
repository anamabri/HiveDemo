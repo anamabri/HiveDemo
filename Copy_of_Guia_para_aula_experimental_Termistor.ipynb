{
  "cells": [
    {
      "cell_type": "markdown",
      "metadata": {
        "id": "view-in-github",
        "colab_type": "text"
      },
      "source": [
        "<a href=\"https://colab.research.google.com/github/anamabri/HiveDemo/blob/main/Copy_of_Guia_para_aula_experimental_Termistor.ipynb\" target=\"_parent\"><img src=\"https://colab.research.google.com/assets/colab-badge.svg\" alt=\"Open In Colab\"/></a>"
      ]
    },
    {
      "cell_type": "markdown",
      "metadata": {
        "id": "naExp5RLd8oy"
      },
      "source": [
        "# Guia para a aula experimental\n",
        "\n",
        "Nesse guia trataremos passo a passo a conexão de um dispositivo com a plataforma Konker.\n",
        "Para seguir esse roteiro, você precisará de uma conta na Konker, que pode ser criada em https://demo.konkerlabs.net/ e, caso deseje trabalhar com o kit disponibilizado para vocês, será necessário baixar a Arduino IDE e adicionar o suporte a placa de desenvolvimento **NodeMCU**, além de instalar as bibliotecas **PubSubClient** e **ArduinoJSON**. Um guia de instalação da placa pode ser visto na referência https://www.filipeflop.com/blog/programar-nodemcu-com-ide-arduino/ enquanto a instalação das bibliotecas pode ser feita sem dificuldades buscando pelo nome das mesmas na caixa aberta ao selecionar o menu **Sketch** -> **Incluir Biblioteca** -> **Gerenciar Bibliotecas**."
      ]
    },
    {
      "cell_type": "markdown",
      "metadata": {
        "id": "uTuDfUfGd8oy"
      },
      "source": [
        "Vamos iniciar nosso notebook chamando todas as bibliotecas que usaremos. Nessa etapa, nada precisa ser modificado."
      ]
    },
    {
      "cell_type": "code",
      "execution_count": 1,
      "metadata": {
        "id": "2HLyPLf6d8oy",
        "outputId": "68fbacab-7a0e-4b40-b540-f8bd78690a54",
        "colab": {
          "base_uri": "https://localhost:8080/",
          "height": 0
        }
      },
      "outputs": [
        {
          "output_type": "stream",
          "name": "stdout",
          "text": [
            "Collecting arrow\n",
            "  Downloading arrow-1.2.3-py3-none-any.whl (66 kB)\n",
            "\u001b[2K     \u001b[90m━━━━━━━━━━━━━━━━━━━━━━━━━━━━━━━━━━━━━━━━\u001b[0m \u001b[32m66.4/66.4 kB\u001b[0m \u001b[31m1.1 MB/s\u001b[0m eta \u001b[36m0:00:00\u001b[0m\n",
            "\u001b[?25hRequirement already satisfied: bokeh in /usr/local/lib/python3.10/dist-packages (3.2.2)\n",
            "Collecting paho.mqtt\n",
            "  Downloading paho-mqtt-1.6.1.tar.gz (99 kB)\n",
            "\u001b[2K     \u001b[90m━━━━━━━━━━━━━━━━━━━━━━━━━━━━━━━━━━━━━━━━\u001b[0m \u001b[32m99.4/99.4 kB\u001b[0m \u001b[31m4.3 MB/s\u001b[0m eta \u001b[36m0:00:00\u001b[0m\n",
            "\u001b[?25h  Preparing metadata (setup.py) ... \u001b[?25l\u001b[?25hdone\n",
            "Requirement already satisfied: python-dateutil>=2.7.0 in /usr/local/lib/python3.10/dist-packages (from arrow) (2.8.2)\n",
            "Requirement already satisfied: Jinja2>=2.9 in /usr/local/lib/python3.10/dist-packages (from bokeh) (3.1.2)\n",
            "Requirement already satisfied: contourpy>=1 in /usr/local/lib/python3.10/dist-packages (from bokeh) (1.1.0)\n",
            "Requirement already satisfied: numpy>=1.16 in /usr/local/lib/python3.10/dist-packages (from bokeh) (1.23.5)\n",
            "Requirement already satisfied: packaging>=16.8 in /usr/local/lib/python3.10/dist-packages (from bokeh) (23.1)\n",
            "Requirement already satisfied: pandas>=1.2 in /usr/local/lib/python3.10/dist-packages (from bokeh) (1.5.3)\n",
            "Requirement already satisfied: pillow>=7.1.0 in /usr/local/lib/python3.10/dist-packages (from bokeh) (9.4.0)\n",
            "Requirement already satisfied: PyYAML>=3.10 in /usr/local/lib/python3.10/dist-packages (from bokeh) (6.0.1)\n",
            "Requirement already satisfied: tornado>=5.1 in /usr/local/lib/python3.10/dist-packages (from bokeh) (6.3.2)\n",
            "Requirement already satisfied: xyzservices>=2021.09.1 in /usr/local/lib/python3.10/dist-packages (from bokeh) (2023.7.0)\n",
            "Requirement already satisfied: MarkupSafe>=2.0 in /usr/local/lib/python3.10/dist-packages (from Jinja2>=2.9->bokeh) (2.1.3)\n",
            "Requirement already satisfied: pytz>=2020.1 in /usr/local/lib/python3.10/dist-packages (from pandas>=1.2->bokeh) (2023.3)\n",
            "Requirement already satisfied: six>=1.5 in /usr/local/lib/python3.10/dist-packages (from python-dateutil>=2.7.0->arrow) (1.16.0)\n",
            "Building wheels for collected packages: paho.mqtt\n",
            "  Building wheel for paho.mqtt (setup.py) ... \u001b[?25l\u001b[?25hdone\n",
            "  Created wheel for paho.mqtt: filename=paho_mqtt-1.6.1-py3-none-any.whl size=62117 sha256=c407ac6f1ba8f7562668ad1f02c7fb8953d6ab8f270e743507e4c0dccc2467e5\n",
            "  Stored in directory: /root/.cache/pip/wheels/8b/bb/0c/79444d1dee20324d442856979b5b519b48828b0bd3d05df84a\n",
            "Successfully built paho.mqtt\n",
            "Installing collected packages: paho.mqtt, arrow\n",
            "Successfully installed arrow-1.2.3 paho.mqtt-1.6.1\n"
          ]
        }
      ],
      "source": [
        "!pip install arrow bokeh paho.mqtt\n",
        "from oauthlib.oauth2 import BackendApplicationClient\n",
        "from requests_oauthlib import OAuth2Session\n",
        "import pprint\n",
        "import numpy as np\n",
        "import arrow\n",
        "import requests\n",
        "import json\n",
        "from threading import Timer"
      ]
    },
    {
      "cell_type": "markdown",
      "metadata": {
        "id": "JlsUcSIcd8oz"
      },
      "source": [
        "O próximo passo é definir os endereços que serão usados para consultar e enviar os dados. Nessa etapa ainda não é necessário fazer modificações."
      ]
    },
    {
      "cell_type": "code",
      "execution_count": 2,
      "metadata": {
        "id": "WsWzaAmCd8oz"
      },
      "outputs": [],
      "source": [
        "#Url de publicacao dos dados\n",
        "pub_url = 'https://data.demo.konkerlabs.net/pub/'\n",
        "#Url da API\n",
        "base_api = 'https://api.demo.konkerlabs.net'\n",
        "#Application padrão\n",
        "application = 'default'"
      ]
    },
    {
      "cell_type": "markdown",
      "metadata": {
        "id": "ogO4XQA-d8oz"
      },
      "source": [
        "Agora vamos colocar em duas variáveis o seu usuário e senha da plataforma:"
      ]
    },
    {
      "cell_type": "code",
      "execution_count": 11,
      "metadata": {
        "id": "hW0TBOXfd8o0"
      },
      "outputs": [],
      "source": [
        "username = 'a272309@dac.unicamp.br'\n",
        "password = 'Coldplay1234'"
      ]
    },
    {
      "cell_type": "markdown",
      "metadata": {
        "id": "vRfJz55Jd8o0"
      },
      "source": [
        "O próximo passo é criar o dispositivo dentro de sua conta na Konker. Você pode criar o dispositivo com o nome de sua preferência, lembre-se apenas de modificar nas função abaixo para o nome adequado. Caso queira usar o nome *termometro*, não é necessário alterar nada na próxima célula."
      ]
    },
    {
      "cell_type": "code",
      "execution_count": 12,
      "metadata": {
        "id": "BDC_0WBqd8o0"
      },
      "outputs": [],
      "source": [
        "termometro_name = \"termometro\""
      ]
    },
    {
      "cell_type": "markdown",
      "metadata": {
        "id": "0bAloD66d8o1"
      },
      "source": [
        "## Usando o Kit de Hardware\n",
        "Esse é o momento de você baixar o código dos dispositivos disponível em nosso GitHub: https://github.com/KonkerLabs/arduino_examples. Você deve baixar o código **Termometro_MQTT**. Depois de baixar o código, abra o código do Termometro na Arduino IDE e mude os parâmetros de rede Wifi, canal de publicação (minha sugestão é usar *temperatura*) credenciais do dispositivo.\n",
        "\n",
        "![term](https://raw.githubusercontent.com/KonkerLabs/arduino_examples/master/Termometro_MQTT/term.jpg \"Termômetro\")\n",
        "\n",
        "Com o dispositivo montado, o próximo passo é compilar e gravar o Firmware. Lembre-se de mudar a board na Arduino IDE para **NodeMCU v1.0**.\n",
        "\n",
        "Caso tudo tenha dado certo até o momento, você começará a observar os dados sendo enviados para a plataforma. Entre na Guia de Devices e procure *Messages* do seu dispositivo termômetro. Você deve ver os dados de temperatura chegando."
      ]
    },
    {
      "cell_type": "markdown",
      "metadata": {
        "id": "L1XdQ3Z8d8o1"
      },
      "source": [
        "**Aguarde ao menos 1 minuto registrando a temperatura ambiente. Após isso, segure o termistor com seus dedos fazendo a temperatura subir. Mantenha o termômetro aquecido com seus dedos por ao menos 30 segundos. Por último, deixe o dispositivo capturando novamente dados de temperatura ambiente enquanto roda o restante do notebook.**"
      ]
    },
    {
      "cell_type": "markdown",
      "metadata": {
        "id": "2Oq-GjfZd8o1"
      },
      "source": [
        "## Usando a API da Konker para obter os dados e analisa-los localmente\n",
        "Para iniciar esse trabalho, vamos primeiro conectar na API da Konker. A API usa OAuth2, então primeiro vamos obter as credenciais."
      ]
    },
    {
      "cell_type": "code",
      "execution_count": 13,
      "metadata": {
        "id": "V20Xn1D5d8o1"
      },
      "outputs": [],
      "source": [
        "client = BackendApplicationClient(client_id=username)\n",
        "oauth = OAuth2Session(client=client)\n",
        "token = oauth.fetch_token(token_url='{}/v1/oauth/token'.format(base_api),\n",
        "                                       client_id=username,\n",
        "                                       client_secret=password)"
      ]
    },
    {
      "cell_type": "markdown",
      "metadata": {
        "id": "RK8rMmhnd8o2"
      },
      "source": [
        "Ótimo! Agora nos podemos começar a usar a API. Caso você queira mais detalhes de sua utilização, pode encontrar documentação em: https://api.demo.konkerlabs.net .\n",
        "\n",
        "Vamos começar listando os dispositivos registrados no seu usuário."
      ]
    },
    {
      "cell_type": "code",
      "execution_count": 14,
      "metadata": {
        "id": "cVPg6Xqkd8o2",
        "colab": {
          "base_uri": "https://localhost:8080/",
          "height": 0
        },
        "outputId": "7af67e42-31f1-4849-8b31-e686c52a60b7"
      },
      "outputs": [
        {
          "output_type": "stream",
          "name": "stdout",
          "text": [
            "{'id': 'termometro', 'name': 'termometro', 'description': 'termometro', 'locationName': 'default', 'deviceModelName': 'default', 'active': True, 'debug': False, 'tags': [], 'guid': '5a95dd2c-8f69-4bb9-a1a3-bfd4bc8f1b58'}\n"
          ]
        }
      ],
      "source": [
        "devices = oauth.get(\"https://api.demo.konkerlabs.net/v1/{}/devices/\".format(application)).json()['result']\n",
        "for dev in devices:\n",
        "    print(dev)"
      ]
    },
    {
      "cell_type": "markdown",
      "metadata": {
        "id": "1use0J_Qd8o2"
      },
      "source": [
        "Vamos procurar pelo dispositivo Termometro na sua lista de dispositivos:"
      ]
    },
    {
      "cell_type": "code",
      "execution_count": 15,
      "metadata": {
        "id": "dlaCvs1Yd8o2",
        "colab": {
          "base_uri": "https://localhost:8080/",
          "height": 0
        },
        "outputId": "a65b130d-74a5-4ede-cf3a-cb148ea0508a"
      },
      "outputs": [
        {
          "output_type": "stream",
          "name": "stdout",
          "text": [
            "O GUID do dispositivo Termômetro é: 5a95dd2c-8f69-4bb9-a1a3-bfd4bc8f1b58\n"
          ]
        }
      ],
      "source": [
        "guid_term=\"\"\n",
        "for dev in devices:\n",
        "    if dev['name'] == termometro_name:\n",
        "        guid_term = dev['guid']\n",
        "\n",
        "print(\"O GUID do dispositivo Termômetro é: \"+ guid_term)"
      ]
    },
    {
      "cell_type": "markdown",
      "metadata": {
        "id": "0CK6Etead8o2"
      },
      "source": [
        "Caso você consiga ver o GUID do dispositivo, significa que está tudo funcionando bem. Caso o GUID não apareça, revise o nome do dispositivo no Notebook e o nome escolhido na plataforma para garantir que eles possuem a mesma grafia."
      ]
    },
    {
      "cell_type": "markdown",
      "metadata": {
        "id": "5hrZxv84d8o2"
      },
      "source": [
        "Agora vamos usar a API para pegar os dados enviados pelo dispositivo termômetro hoje. Caso você tenha escolhido outro canal para envio dos dados, por favor modifique a variável **canal** na próxima célula."
      ]
    },
    {
      "cell_type": "code",
      "execution_count": 16,
      "metadata": {
        "id": "K889PRPRd8o3",
        "colab": {
          "base_uri": "https://localhost:8080/",
          "height": 0
        },
        "outputId": "a6f3f089-5604-4aa4-eb3c-388e9b2dacc2"
      },
      "outputs": [
        {
          "output_type": "stream",
          "name": "stdout",
          "text": [
            "[{'timestamp': '2023-08-22T18:33:52.687Z', 'ingestedTimestamp': '2023-08-22T18:33:52.687Z', 'incoming': {'deviceGuid': '5a95dd2c-8f69-4bb9-a1a3-bfd4bc8f1b58', 'channel': 'temperatura'}, 'payload': {'deviceId': 'My_favorite_thermometer', 'metric': 'Celsius', 'value': 13.51368809}}, {'timestamp': '2023-08-22T18:33:54.572Z', 'ingestedTimestamp': '2023-08-22T18:33:54.572Z', 'incoming': {'deviceGuid': '5a95dd2c-8f69-4bb9-a1a3-bfd4bc8f1b58', 'channel': 'temperatura'}, 'payload': {'deviceId': 'My_favorite_thermometer', 'metric': 'Celsius', 'value': 13.51368809}}, {'timestamp': '2023-08-22T18:33:56.614Z', 'ingestedTimestamp': '2023-08-22T18:33:56.614Z', 'incoming': {'deviceGuid': '5a95dd2c-8f69-4bb9-a1a3-bfd4bc8f1b58', 'channel': 'temperatura'}, 'payload': {'deviceId': 'My_favorite_thermometer', 'metric': 'Celsius', 'value': 13.51368809}}, {'timestamp': '2023-08-22T18:33:58.670Z', 'ingestedTimestamp': '2023-08-22T18:33:58.670Z', 'incoming': {'deviceGuid': '5a95dd2c-8f69-4bb9-a1a3-bfd4bc8f1b58', 'channel': 'temperatura'}, 'payload': {'deviceId': 'My_favorite_thermometer', 'metric': 'Celsius', 'value': 13.65703869}}, {'timestamp': '2023-08-22T18:34:00.711Z', 'ingestedTimestamp': '2023-08-22T18:34:00.711Z', 'incoming': {'deviceGuid': '5a95dd2c-8f69-4bb9-a1a3-bfd4bc8f1b58', 'channel': 'temperatura'}, 'payload': {'deviceId': 'My_favorite_thermometer', 'metric': 'Celsius', 'value': 13.08203983}}, {'timestamp': '2023-08-22T18:34:04.587Z', 'ingestedTimestamp': '2023-08-22T18:34:04.587Z', 'incoming': {'deviceGuid': '5a95dd2c-8f69-4bb9-a1a3-bfd4bc8f1b58', 'channel': 'temperatura'}, 'payload': {'deviceId': 'My_favorite_thermometer', 'metric': 'Celsius', 'value': 13.08203983}}, {'timestamp': '2023-08-22T18:34:04.803Z', 'ingestedTimestamp': '2023-08-22T18:34:04.803Z', 'incoming': {'deviceGuid': '5a95dd2c-8f69-4bb9-a1a3-bfd4bc8f1b58', 'channel': 'temperatura'}, 'payload': {'deviceId': 'My_favorite_thermometer', 'metric': 'Celsius', 'value': 13.08203983}}, {'timestamp': '2023-08-22T18:34:06.841Z', 'ingestedTimestamp': '2023-08-22T18:34:06.841Z', 'incoming': {'deviceGuid': '5a95dd2c-8f69-4bb9-a1a3-bfd4bc8f1b58', 'channel': 'temperatura'}, 'payload': {'deviceId': 'My_favorite_thermometer', 'metric': 'Celsius', 'value': 13.08203983}}, {'timestamp': '2023-08-22T18:34:08.884Z', 'ingestedTimestamp': '2023-08-22T18:34:08.884Z', 'incoming': {'deviceGuid': '5a95dd2c-8f69-4bb9-a1a3-bfd4bc8f1b58', 'channel': 'temperatura'}, 'payload': {'deviceId': 'My_favorite_thermometer', 'metric': 'Celsius', 'value': 13.08203983}}, {'timestamp': '2023-08-22T18:34:10.929Z', 'ingestedTimestamp': '2023-08-22T18:34:10.929Z', 'incoming': {'deviceGuid': '5a95dd2c-8f69-4bb9-a1a3-bfd4bc8f1b58', 'channel': 'temperatura'}, 'payload': {'deviceId': 'My_favorite_thermometer', 'metric': 'Celsius', 'value': 13.65703869}}, {'timestamp': '2023-08-22T18:34:13Z', 'ingestedTimestamp': '2023-08-22T18:34:13Z', 'incoming': {'deviceGuid': '5a95dd2c-8f69-4bb9-a1a3-bfd4bc8f1b58', 'channel': 'temperatura'}, 'payload': {'deviceId': 'My_favorite_thermometer', 'metric': 'Celsius', 'value': 13.08203983}}, {'timestamp': '2023-08-22T18:34:15.015Z', 'ingestedTimestamp': '2023-08-22T18:34:15.015Z', 'incoming': {'deviceGuid': '5a95dd2c-8f69-4bb9-a1a3-bfd4bc8f1b58', 'channel': 'temperatura'}, 'payload': {'deviceId': 'My_favorite_thermometer', 'metric': 'Celsius', 'value': 13.08203983}}, {'timestamp': '2023-08-22T18:34:17.109Z', 'ingestedTimestamp': '2023-08-22T18:34:17.109Z', 'incoming': {'deviceGuid': '5a95dd2c-8f69-4bb9-a1a3-bfd4bc8f1b58', 'channel': 'temperatura'}, 'payload': {'deviceId': 'My_favorite_thermometer', 'metric': 'Celsius', 'value': 13.08203983}}, {'timestamp': '2023-08-22T18:34:19.167Z', 'ingestedTimestamp': '2023-08-22T18:34:19.167Z', 'incoming': {'deviceGuid': '5a95dd2c-8f69-4bb9-a1a3-bfd4bc8f1b58', 'channel': 'temperatura'}, 'payload': {'deviceId': 'My_favorite_thermometer', 'metric': 'Celsius', 'value': 13.65703869}}, {'timestamp': '2023-08-22T18:34:21.245Z', 'ingestedTimestamp': '2023-08-22T18:34:21.245Z', 'incoming': {'deviceGuid': '5a95dd2c-8f69-4bb9-a1a3-bfd4bc8f1b58', 'channel': 'temperatura'}, 'payload': {'deviceId': 'My_favorite_thermometer', 'metric': 'Celsius', 'value': 13.65703869}}, {'timestamp': '2023-08-22T18:34:23.200Z', 'ingestedTimestamp': '2023-08-22T18:34:23.200Z', 'incoming': {'deviceGuid': '5a95dd2c-8f69-4bb9-a1a3-bfd4bc8f1b58', 'channel': 'temperatura'}, 'payload': {'deviceId': 'My_favorite_thermometer', 'metric': 'Celsius', 'value': 13.08203983}}, {'timestamp': '2023-08-22T18:34:25.241Z', 'ingestedTimestamp': '2023-08-22T18:34:25.241Z', 'incoming': {'deviceGuid': '5a95dd2c-8f69-4bb9-a1a3-bfd4bc8f1b58', 'channel': 'temperatura'}, 'payload': {'deviceId': 'My_favorite_thermometer', 'metric': 'Celsius', 'value': 13.65703869}}, {'timestamp': '2023-08-22T18:34:27.289Z', 'ingestedTimestamp': '2023-08-22T18:34:27.289Z', 'incoming': {'deviceGuid': '5a95dd2c-8f69-4bb9-a1a3-bfd4bc8f1b58', 'channel': 'temperatura'}, 'payload': {'deviceId': 'My_favorite_thermometer', 'metric': 'Celsius', 'value': 13.08203983}}, {'timestamp': '2023-08-22T18:34:29.327Z', 'ingestedTimestamp': '2023-08-22T18:34:29.327Z', 'incoming': {'deviceGuid': '5a95dd2c-8f69-4bb9-a1a3-bfd4bc8f1b58', 'channel': 'temperatura'}, 'payload': {'deviceId': 'My_favorite_thermometer', 'metric': 'Celsius', 'value': 13.65703869}}, {'timestamp': '2023-08-22T18:34:31.384Z', 'ingestedTimestamp': '2023-08-22T18:34:31.384Z', 'incoming': {'deviceGuid': '5a95dd2c-8f69-4bb9-a1a3-bfd4bc8f1b58', 'channel': 'temperatura'}, 'payload': {'deviceId': 'My_favorite_thermometer', 'metric': 'Celsius', 'value': 13.08203983}}, {'timestamp': '2023-08-22T18:34:33.424Z', 'ingestedTimestamp': '2023-08-22T18:34:33.424Z', 'incoming': {'deviceGuid': '5a95dd2c-8f69-4bb9-a1a3-bfd4bc8f1b58', 'channel': 'temperatura'}, 'payload': {'deviceId': 'My_favorite_thermometer', 'metric': 'Celsius', 'value': 13.08203983}}, {'timestamp': '2023-08-22T18:34:35.478Z', 'ingestedTimestamp': '2023-08-22T18:34:35.478Z', 'incoming': {'deviceGuid': '5a95dd2c-8f69-4bb9-a1a3-bfd4bc8f1b58', 'channel': 'temperatura'}, 'payload': {'deviceId': 'My_favorite_thermometer', 'metric': 'Celsius', 'value': 13.08203983}}, {'timestamp': '2023-08-22T18:34:37.514Z', 'ingestedTimestamp': '2023-08-22T18:34:37.514Z', 'incoming': {'deviceGuid': '5a95dd2c-8f69-4bb9-a1a3-bfd4bc8f1b58', 'channel': 'temperatura'}, 'payload': {'deviceId': 'My_favorite_thermometer', 'metric': 'Celsius', 'value': 13.08203983}}, {'timestamp': '2023-08-22T18:34:39.715Z', 'ingestedTimestamp': '2023-08-22T18:34:39.715Z', 'incoming': {'deviceGuid': '5a95dd2c-8f69-4bb9-a1a3-bfd4bc8f1b58', 'channel': 'temperatura'}, 'payload': {'deviceId': 'My_favorite_thermometer', 'metric': 'Celsius', 'value': 13.08203983}}, {'timestamp': '2023-08-22T18:34:41.623Z', 'ingestedTimestamp': '2023-08-22T18:34:41.623Z', 'incoming': {'deviceGuid': '5a95dd2c-8f69-4bb9-a1a3-bfd4bc8f1b58', 'channel': 'temperatura'}, 'payload': {'deviceId': 'My_favorite_thermometer', 'metric': 'Celsius', 'value': 13.08203983}}, {'timestamp': '2023-08-22T18:34:43.660Z', 'ingestedTimestamp': '2023-08-22T18:34:43.660Z', 'incoming': {'deviceGuid': '5a95dd2c-8f69-4bb9-a1a3-bfd4bc8f1b58', 'channel': 'temperatura'}, 'payload': {'deviceId': 'My_favorite_thermometer', 'metric': 'Celsius', 'value': 13.08203983}}, {'timestamp': '2023-08-22T18:34:45.796Z', 'ingestedTimestamp': '2023-08-22T18:34:45.796Z', 'incoming': {'deviceGuid': '5a95dd2c-8f69-4bb9-a1a3-bfd4bc8f1b58', 'channel': 'temperatura'}, 'payload': {'deviceId': 'My_favorite_thermometer', 'metric': 'Celsius', 'value': 13.08203983}}, {'timestamp': '2023-08-22T18:34:47.847Z', 'ingestedTimestamp': '2023-08-22T18:34:47.847Z', 'incoming': {'deviceGuid': '5a95dd2c-8f69-4bb9-a1a3-bfd4bc8f1b58', 'channel': 'temperatura'}, 'payload': {'deviceId': 'My_favorite_thermometer', 'metric': 'Celsius', 'value': 13.08203983}}, {'timestamp': '2023-08-22T18:34:49.869Z', 'ingestedTimestamp': '2023-08-22T18:34:49.869Z', 'incoming': {'deviceGuid': '5a95dd2c-8f69-4bb9-a1a3-bfd4bc8f1b58', 'channel': 'temperatura'}, 'payload': {'deviceId': 'My_favorite_thermometer', 'metric': 'Celsius', 'value': 13.08203983}}, {'timestamp': '2023-08-22T18:34:51.831Z', 'ingestedTimestamp': '2023-08-22T18:34:51.831Z', 'incoming': {'deviceGuid': '5a95dd2c-8f69-4bb9-a1a3-bfd4bc8f1b58', 'channel': 'temperatura'}, 'payload': {'deviceId': 'My_favorite_thermometer', 'metric': 'Celsius', 'value': 13.08203983}}, {'timestamp': '2023-08-22T18:34:53.877Z', 'ingestedTimestamp': '2023-08-22T18:34:53.877Z', 'incoming': {'deviceGuid': '5a95dd2c-8f69-4bb9-a1a3-bfd4bc8f1b58', 'channel': 'temperatura'}, 'payload': {'deviceId': 'My_favorite_thermometer', 'metric': 'Celsius', 'value': 13.08203983}}, {'timestamp': '2023-08-22T18:34:55.932Z', 'ingestedTimestamp': '2023-08-22T18:34:55.932Z', 'incoming': {'deviceGuid': '5a95dd2c-8f69-4bb9-a1a3-bfd4bc8f1b58', 'channel': 'temperatura'}, 'payload': {'deviceId': 'My_favorite_thermometer', 'metric': 'Celsius', 'value': 13.08203983}}, {'timestamp': '2023-08-22T18:34:57.975Z', 'ingestedTimestamp': '2023-08-22T18:34:57.975Z', 'incoming': {'deviceGuid': '5a95dd2c-8f69-4bb9-a1a3-bfd4bc8f1b58', 'channel': 'temperatura'}, 'payload': {'deviceId': 'My_favorite_thermometer', 'metric': 'Celsius', 'value': 13.08203983}}, {'timestamp': '2023-08-22T18:35:00.042Z', 'ingestedTimestamp': '2023-08-22T18:35:00.042Z', 'incoming': {'deviceGuid': '5a95dd2c-8f69-4bb9-a1a3-bfd4bc8f1b58', 'channel': 'temperatura'}, 'payload': {'deviceId': 'My_favorite_thermometer', 'metric': 'Celsius', 'value': 13.08203983}}, {'timestamp': '2023-08-22T18:35:02.067Z', 'ingestedTimestamp': '2023-08-22T18:35:02.067Z', 'incoming': {'deviceGuid': '5a95dd2c-8f69-4bb9-a1a3-bfd4bc8f1b58', 'channel': 'temperatura'}, 'payload': {'deviceId': 'My_favorite_thermometer', 'metric': 'Celsius', 'value': 13.08203983}}, {'timestamp': '2023-08-22T18:35:04.126Z', 'ingestedTimestamp': '2023-08-22T18:35:04.126Z', 'incoming': {'deviceGuid': '5a95dd2c-8f69-4bb9-a1a3-bfd4bc8f1b58', 'channel': 'temperatura'}, 'payload': {'deviceId': 'My_favorite_thermometer', 'metric': 'Celsius', 'value': 13.08203983}}, {'timestamp': '2023-08-22T18:35:06.191Z', 'ingestedTimestamp': '2023-08-22T18:35:06.191Z', 'incoming': {'deviceGuid': '5a95dd2c-8f69-4bb9-a1a3-bfd4bc8f1b58', 'channel': 'temperatura'}, 'payload': {'deviceId': 'My_favorite_thermometer', 'metric': 'Celsius', 'value': 13.08203983}}, {'timestamp': '2023-08-22T18:35:08.205Z', 'ingestedTimestamp': '2023-08-22T18:35:08.205Z', 'incoming': {'deviceGuid': '5a95dd2c-8f69-4bb9-a1a3-bfd4bc8f1b58', 'channel': 'temperatura'}, 'payload': {'deviceId': 'My_favorite_thermometer', 'metric': 'Celsius', 'value': 13.65703869}}, {'timestamp': '2023-08-22T18:35:10.243Z', 'ingestedTimestamp': '2023-08-22T18:35:10.243Z', 'incoming': {'deviceGuid': '5a95dd2c-8f69-4bb9-a1a3-bfd4bc8f1b58', 'channel': 'temperatura'}, 'payload': {'deviceId': 'My_favorite_thermometer', 'metric': 'Celsius', 'value': 13.65703869}}, {'timestamp': '2023-08-22T18:35:12.487Z', 'ingestedTimestamp': '2023-08-22T18:35:12.487Z', 'incoming': {'deviceGuid': '5a95dd2c-8f69-4bb9-a1a3-bfd4bc8f1b58', 'channel': 'temperatura'}, 'payload': {'deviceId': 'My_favorite_thermometer', 'metric': 'Celsius', 'value': 13.08203983}}, {'timestamp': '2023-08-22T18:35:16.226Z', 'ingestedTimestamp': '2023-08-22T18:35:16.226Z', 'incoming': {'deviceGuid': '5a95dd2c-8f69-4bb9-a1a3-bfd4bc8f1b58', 'channel': 'temperatura'}, 'payload': {'deviceId': 'My_favorite_thermometer', 'metric': 'Celsius', 'value': 13.65703869}}, {'timestamp': '2023-08-22T18:35:16.596Z', 'ingestedTimestamp': '2023-08-22T18:35:16.596Z', 'incoming': {'deviceGuid': '5a95dd2c-8f69-4bb9-a1a3-bfd4bc8f1b58', 'channel': 'temperatura'}, 'payload': {'deviceId': 'My_favorite_thermometer', 'metric': 'Celsius', 'value': 13.22619247}}, {'timestamp': '2023-08-22T18:35:18.447Z', 'ingestedTimestamp': '2023-08-22T18:35:18.447Z', 'incoming': {'deviceGuid': '5a95dd2c-8f69-4bb9-a1a3-bfd4bc8f1b58', 'channel': 'temperatura'}, 'payload': {'deviceId': 'My_favorite_thermometer', 'metric': 'Celsius', 'value': 13.51368809}}, {'timestamp': '2023-08-22T18:35:20.499Z', 'ingestedTimestamp': '2023-08-22T18:35:20.499Z', 'incoming': {'deviceGuid': '5a95dd2c-8f69-4bb9-a1a3-bfd4bc8f1b58', 'channel': 'temperatura'}, 'payload': {'deviceId': 'My_favorite_thermometer', 'metric': 'Celsius', 'value': 13.51368809}}, {'timestamp': '2023-08-22T18:35:22.676Z', 'ingestedTimestamp': '2023-08-22T18:35:22.676Z', 'incoming': {'deviceGuid': '5a95dd2c-8f69-4bb9-a1a3-bfd4bc8f1b58', 'channel': 'temperatura'}, 'payload': {'deviceId': 'My_favorite_thermometer', 'metric': 'Celsius', 'value': 14.08551693}}, {'timestamp': '2023-08-22T18:35:24.686Z', 'ingestedTimestamp': '2023-08-22T18:35:24.686Z', 'incoming': {'deviceGuid': '5a95dd2c-8f69-4bb9-a1a3-bfd4bc8f1b58', 'channel': 'temperatura'}, 'payload': {'deviceId': 'My_favorite_thermometer', 'metric': 'Celsius', 'value': 13.51368809}}, {'timestamp': '2023-08-22T18:35:26.636Z', 'ingestedTimestamp': '2023-08-22T18:35:26.636Z', 'incoming': {'deviceGuid': '5a95dd2c-8f69-4bb9-a1a3-bfd4bc8f1b58', 'channel': 'temperatura'}, 'payload': {'deviceId': 'My_favorite_thermometer', 'metric': 'Celsius', 'value': 14.08551693}}, {'timestamp': '2023-08-22T18:35:28.646Z', 'ingestedTimestamp': '2023-08-22T18:35:28.646Z', 'incoming': {'deviceGuid': '5a95dd2c-8f69-4bb9-a1a3-bfd4bc8f1b58', 'channel': 'temperatura'}, 'payload': {'deviceId': 'My_favorite_thermometer', 'metric': 'Celsius', 'value': 13.51368809}}, {'timestamp': '2023-08-22T18:35:30.725Z', 'ingestedTimestamp': '2023-08-22T18:35:30.725Z', 'incoming': {'deviceGuid': '5a95dd2c-8f69-4bb9-a1a3-bfd4bc8f1b58', 'channel': 'temperatura'}, 'payload': {'deviceId': 'My_favorite_thermometer', 'metric': 'Celsius', 'value': 13.37007713}}, {'timestamp': '2023-08-22T18:35:32.745Z', 'ingestedTimestamp': '2023-08-22T18:35:32.745Z', 'incoming': {'deviceGuid': '5a95dd2c-8f69-4bb9-a1a3-bfd4bc8f1b58', 'channel': 'temperatura'}, 'payload': {'deviceId': 'My_favorite_thermometer', 'metric': 'Celsius', 'value': 13.51368809}}, {'timestamp': '2023-08-22T18:35:34.938Z', 'ingestedTimestamp': '2023-08-22T18:35:34.938Z', 'incoming': {'deviceGuid': '5a95dd2c-8f69-4bb9-a1a3-bfd4bc8f1b58', 'channel': 'temperatura'}, 'payload': {'deviceId': 'My_favorite_thermometer', 'metric': 'Celsius', 'value': 13.22619247}}, {'timestamp': '2023-08-22T18:35:36.831Z', 'ingestedTimestamp': '2023-08-22T18:35:36.831Z', 'incoming': {'deviceGuid': '5a95dd2c-8f69-4bb9-a1a3-bfd4bc8f1b58', 'channel': 'temperatura'}, 'payload': {'deviceId': 'My_favorite_thermometer', 'metric': 'Celsius', 'value': 13.37007713}}, {'timestamp': '2023-08-22T18:35:38.895Z', 'ingestedTimestamp': '2023-08-22T18:35:38.895Z', 'incoming': {'deviceGuid': '5a95dd2c-8f69-4bb9-a1a3-bfd4bc8f1b58', 'channel': 'temperatura'}, 'payload': {'deviceId': 'My_favorite_thermometer', 'metric': 'Celsius', 'value': 13.51368809}}, {'timestamp': '2023-08-22T18:35:40.933Z', 'ingestedTimestamp': '2023-08-22T18:35:40.933Z', 'incoming': {'deviceGuid': '5a95dd2c-8f69-4bb9-a1a3-bfd4bc8f1b58', 'channel': 'temperatura'}, 'payload': {'deviceId': 'My_favorite_thermometer', 'metric': 'Celsius', 'value': 13.51368809}}, {'timestamp': '2023-08-22T18:35:43.124Z', 'ingestedTimestamp': '2023-08-22T18:35:43.124Z', 'incoming': {'deviceGuid': '5a95dd2c-8f69-4bb9-a1a3-bfd4bc8f1b58', 'channel': 'temperatura'}, 'payload': {'deviceId': 'My_favorite_thermometer', 'metric': 'Celsius', 'value': 13.51368809}}, {'timestamp': '2023-08-22T18:35:45.008Z', 'ingestedTimestamp': '2023-08-22T18:35:45.008Z', 'incoming': {'deviceGuid': '5a95dd2c-8f69-4bb9-a1a3-bfd4bc8f1b58', 'channel': 'temperatura'}, 'payload': {'deviceId': 'My_favorite_thermometer', 'metric': 'Celsius', 'value': 14.08551693}}, {'timestamp': '2023-08-22T18:35:47.070Z', 'ingestedTimestamp': '2023-08-22T18:35:47.070Z', 'incoming': {'deviceGuid': '5a95dd2c-8f69-4bb9-a1a3-bfd4bc8f1b58', 'channel': 'temperatura'}, 'payload': {'deviceId': 'My_favorite_thermometer', 'metric': 'Celsius', 'value': 13.51368809}}, {'timestamp': '2023-08-22T18:35:50.670Z', 'ingestedTimestamp': '2023-08-22T18:35:50.670Z', 'incoming': {'deviceGuid': '5a95dd2c-8f69-4bb9-a1a3-bfd4bc8f1b58', 'channel': 'temperatura'}, 'payload': {'deviceId': 'My_favorite_thermometer', 'metric': 'Celsius', 'value': 13.37007713}}, {'timestamp': '2023-08-22T18:35:51.171Z', 'ingestedTimestamp': '2023-08-22T18:35:51.171Z', 'incoming': {'deviceGuid': '5a95dd2c-8f69-4bb9-a1a3-bfd4bc8f1b58', 'channel': 'temperatura'}, 'payload': {'deviceId': 'My_favorite_thermometer', 'metric': 'Celsius', 'value': 13.94295025}}, {'timestamp': '2023-08-22T18:35:53.211Z', 'ingestedTimestamp': '2023-08-22T18:35:53.211Z', 'incoming': {'deviceGuid': '5a95dd2c-8f69-4bb9-a1a3-bfd4bc8f1b58', 'channel': 'temperatura'}, 'payload': {'deviceId': 'My_favorite_thermometer', 'metric': 'Celsius', 'value': 13.08203983}}, {'timestamp': '2023-08-22T18:35:57.181Z', 'ingestedTimestamp': '2023-08-22T18:35:57.181Z', 'incoming': {'deviceGuid': '5a95dd2c-8f69-4bb9-a1a3-bfd4bc8f1b58', 'channel': 'temperatura'}, 'payload': {'deviceId': 'My_favorite_thermometer', 'metric': 'Celsius', 'value': 13.65703869}}, {'timestamp': '2023-08-22T18:35:57.326Z', 'ingestedTimestamp': '2023-08-22T18:35:57.326Z', 'incoming': {'deviceGuid': '5a95dd2c-8f69-4bb9-a1a3-bfd4bc8f1b58', 'channel': 'temperatura'}, 'payload': {'deviceId': 'My_favorite_thermometer', 'metric': 'Celsius', 'value': 13.65703869}}, {'timestamp': '2023-08-22T18:35:59.335Z', 'ingestedTimestamp': '2023-08-22T18:35:59.335Z', 'incoming': {'deviceGuid': '5a95dd2c-8f69-4bb9-a1a3-bfd4bc8f1b58', 'channel': 'temperatura'}, 'payload': {'deviceId': 'My_favorite_thermometer', 'metric': 'Celsius', 'value': 13.22619247}}, {'timestamp': '2023-08-22T18:36:01.370Z', 'ingestedTimestamp': '2023-08-22T18:36:01.370Z', 'incoming': {'deviceGuid': '5a95dd2c-8f69-4bb9-a1a3-bfd4bc8f1b58', 'channel': 'temperatura'}, 'payload': {'deviceId': 'My_favorite_thermometer', 'metric': 'Celsius', 'value': 13.22619247}}, {'timestamp': '2023-08-22T18:36:03.425Z', 'ingestedTimestamp': '2023-08-22T18:36:03.425Z', 'incoming': {'deviceGuid': '5a95dd2c-8f69-4bb9-a1a3-bfd4bc8f1b58', 'channel': 'temperatura'}, 'payload': {'deviceId': 'My_favorite_thermometer', 'metric': 'Celsius', 'value': 13.51368809}}, {'timestamp': '2023-08-22T18:36:05.693Z', 'ingestedTimestamp': '2023-08-22T18:36:05.693Z', 'incoming': {'deviceGuid': '5a95dd2c-8f69-4bb9-a1a3-bfd4bc8f1b58', 'channel': 'temperatura'}, 'payload': {'deviceId': 'My_favorite_thermometer', 'metric': 'Celsius', 'value': 13.51368809}}, {'timestamp': '2023-08-22T18:36:07.509Z', 'ingestedTimestamp': '2023-08-22T18:36:07.509Z', 'incoming': {'deviceGuid': '5a95dd2c-8f69-4bb9-a1a3-bfd4bc8f1b58', 'channel': 'temperatura'}, 'payload': {'deviceId': 'My_favorite_thermometer', 'metric': 'Celsius', 'value': 13.08203983}}, {'timestamp': '2023-08-22T18:36:09.555Z', 'ingestedTimestamp': '2023-08-22T18:36:09.555Z', 'incoming': {'deviceGuid': '5a95dd2c-8f69-4bb9-a1a3-bfd4bc8f1b58', 'channel': 'temperatura'}, 'payload': {'deviceId': 'My_favorite_thermometer', 'metric': 'Celsius', 'value': 13.37007713}}, {'timestamp': '2023-08-22T18:36:11.619Z', 'ingestedTimestamp': '2023-08-22T18:36:11.619Z', 'incoming': {'deviceGuid': '5a95dd2c-8f69-4bb9-a1a3-bfd4bc8f1b58', 'channel': 'temperatura'}, 'payload': {'deviceId': 'My_favorite_thermometer', 'metric': 'Celsius', 'value': 13.37007713}}, {'timestamp': '2023-08-22T18:36:13.653Z', 'ingestedTimestamp': '2023-08-22T18:36:13.653Z', 'incoming': {'deviceGuid': '5a95dd2c-8f69-4bb9-a1a3-bfd4bc8f1b58', 'channel': 'temperatura'}, 'payload': {'deviceId': 'My_favorite_thermometer', 'metric': 'Celsius', 'value': 13.22619247}}, {'timestamp': '2023-08-22T18:36:15.684Z', 'ingestedTimestamp': '2023-08-22T18:36:15.684Z', 'incoming': {'deviceGuid': '5a95dd2c-8f69-4bb9-a1a3-bfd4bc8f1b58', 'channel': 'temperatura'}, 'payload': {'deviceId': 'My_favorite_thermometer', 'metric': 'Celsius', 'value': 13.65703869}}, {'timestamp': '2023-08-22T18:36:17.728Z', 'ingestedTimestamp': '2023-08-22T18:36:17.728Z', 'incoming': {'deviceGuid': '5a95dd2c-8f69-4bb9-a1a3-bfd4bc8f1b58', 'channel': 'temperatura'}, 'payload': {'deviceId': 'My_favorite_thermometer', 'metric': 'Celsius', 'value': 13.65703869}}, {'timestamp': '2023-08-22T18:36:19.785Z', 'ingestedTimestamp': '2023-08-22T18:36:19.785Z', 'incoming': {'deviceGuid': '5a95dd2c-8f69-4bb9-a1a3-bfd4bc8f1b58', 'channel': 'temperatura'}, 'payload': {'deviceId': 'My_favorite_thermometer', 'metric': 'Celsius', 'value': 13.08203983}}, {'timestamp': '2023-08-22T18:36:21.877Z', 'ingestedTimestamp': '2023-08-22T18:36:21.877Z', 'incoming': {'deviceGuid': '5a95dd2c-8f69-4bb9-a1a3-bfd4bc8f1b58', 'channel': 'temperatura'}, 'payload': {'deviceId': 'My_favorite_thermometer', 'metric': 'Celsius', 'value': 13.65703869}}, {'timestamp': '2023-08-22T18:36:23.965Z', 'ingestedTimestamp': '2023-08-22T18:36:23.965Z', 'incoming': {'deviceGuid': '5a95dd2c-8f69-4bb9-a1a3-bfd4bc8f1b58', 'channel': 'temperatura'}, 'payload': {'deviceId': 'My_favorite_thermometer', 'metric': 'Celsius', 'value': 13.08203983}}, {'timestamp': '2023-08-22T18:36:25.908Z', 'ingestedTimestamp': '2023-08-22T18:36:25.908Z', 'incoming': {'deviceGuid': '5a95dd2c-8f69-4bb9-a1a3-bfd4bc8f1b58', 'channel': 'temperatura'}, 'payload': {'deviceId': 'My_favorite_thermometer', 'metric': 'Celsius', 'value': 13.08203983}}, {'timestamp': '2023-08-22T18:36:27.967Z', 'ingestedTimestamp': '2023-08-22T18:36:27.967Z', 'incoming': {'deviceGuid': '5a95dd2c-8f69-4bb9-a1a3-bfd4bc8f1b58', 'channel': 'temperatura'}, 'payload': {'deviceId': 'My_favorite_thermometer', 'metric': 'Celsius', 'value': 13.08203983}}, {'timestamp': '2023-08-22T18:36:29.997Z', 'ingestedTimestamp': '2023-08-22T18:36:29.997Z', 'incoming': {'deviceGuid': '5a95dd2c-8f69-4bb9-a1a3-bfd4bc8f1b58', 'channel': 'temperatura'}, 'payload': {'deviceId': 'My_favorite_thermometer', 'metric': 'Celsius', 'value': 13.08203983}}, {'timestamp': '2023-08-22T18:36:32.037Z', 'ingestedTimestamp': '2023-08-22T18:36:32.037Z', 'incoming': {'deviceGuid': '5a95dd2c-8f69-4bb9-a1a3-bfd4bc8f1b58', 'channel': 'temperatura'}, 'payload': {'deviceId': 'My_favorite_thermometer', 'metric': 'Celsius', 'value': 13.08203983}}, {'timestamp': '2023-08-22T18:36:34.080Z', 'ingestedTimestamp': '2023-08-22T18:36:34.080Z', 'incoming': {'deviceGuid': '5a95dd2c-8f69-4bb9-a1a3-bfd4bc8f1b58', 'channel': 'temperatura'}, 'payload': {'deviceId': 'My_favorite_thermometer', 'metric': 'Celsius', 'value': 13.65703869}}, {'timestamp': '2023-08-22T18:36:36.136Z', 'ingestedTimestamp': '2023-08-22T18:36:36.136Z', 'incoming': {'deviceGuid': '5a95dd2c-8f69-4bb9-a1a3-bfd4bc8f1b58', 'channel': 'temperatura'}, 'payload': {'deviceId': 'My_favorite_thermometer', 'metric': 'Celsius', 'value': 13.08203983}}, {'timestamp': '2023-08-22T18:36:38.188Z', 'ingestedTimestamp': '2023-08-22T18:36:38.188Z', 'incoming': {'deviceGuid': '5a95dd2c-8f69-4bb9-a1a3-bfd4bc8f1b58', 'channel': 'temperatura'}, 'payload': {'deviceId': 'My_favorite_thermometer', 'metric': 'Celsius', 'value': 13.08203983}}, {'timestamp': '2023-08-22T18:36:40.225Z', 'ingestedTimestamp': '2023-08-22T18:36:40.225Z', 'incoming': {'deviceGuid': '5a95dd2c-8f69-4bb9-a1a3-bfd4bc8f1b58', 'channel': 'temperatura'}, 'payload': {'deviceId': 'My_favorite_thermometer', 'metric': 'Celsius', 'value': 13.08203983}}, {'timestamp': '2023-08-22T18:36:42.269Z', 'ingestedTimestamp': '2023-08-22T18:36:42.269Z', 'incoming': {'deviceGuid': '5a95dd2c-8f69-4bb9-a1a3-bfd4bc8f1b58', 'channel': 'temperatura'}, 'payload': {'deviceId': 'My_favorite_thermometer', 'metric': 'Celsius', 'value': 13.08203983}}, {'timestamp': '2023-08-22T18:36:44.314Z', 'ingestedTimestamp': '2023-08-22T18:36:44.314Z', 'incoming': {'deviceGuid': '5a95dd2c-8f69-4bb9-a1a3-bfd4bc8f1b58', 'channel': 'temperatura'}, 'payload': {'deviceId': 'My_favorite_thermometer', 'metric': 'Celsius', 'value': 13.08203983}}, {'timestamp': '2023-08-22T18:36:46.356Z', 'ingestedTimestamp': '2023-08-22T18:36:46.356Z', 'incoming': {'deviceGuid': '5a95dd2c-8f69-4bb9-a1a3-bfd4bc8f1b58', 'channel': 'temperatura'}, 'payload': {'deviceId': 'My_favorite_thermometer', 'metric': 'Celsius', 'value': 13.51368809}}, {'timestamp': '2023-08-22T18:36:48.423Z', 'ingestedTimestamp': '2023-08-22T18:36:48.423Z', 'incoming': {'deviceGuid': '5a95dd2c-8f69-4bb9-a1a3-bfd4bc8f1b58', 'channel': 'temperatura'}, 'payload': {'deviceId': 'My_favorite_thermometer', 'metric': 'Celsius', 'value': 13.08203983}}, {'timestamp': '2023-08-22T18:36:50.472Z', 'ingestedTimestamp': '2023-08-22T18:36:50.472Z', 'incoming': {'deviceGuid': '5a95dd2c-8f69-4bb9-a1a3-bfd4bc8f1b58', 'channel': 'temperatura'}, 'payload': {'deviceId': 'My_favorite_thermometer', 'metric': 'Celsius', 'value': 13.08203983}}, {'timestamp': '2023-08-22T18:36:52.494Z', 'ingestedTimestamp': '2023-08-22T18:36:52.494Z', 'incoming': {'deviceGuid': '5a95dd2c-8f69-4bb9-a1a3-bfd4bc8f1b58', 'channel': 'temperatura'}, 'payload': {'deviceId': 'My_favorite_thermometer', 'metric': 'Celsius', 'value': 13.51368809}}, {'timestamp': '2023-08-22T18:36:54.551Z', 'ingestedTimestamp': '2023-08-22T18:36:54.551Z', 'incoming': {'deviceGuid': '5a95dd2c-8f69-4bb9-a1a3-bfd4bc8f1b58', 'channel': 'temperatura'}, 'payload': {'deviceId': 'My_favorite_thermometer', 'metric': 'Celsius', 'value': 13.08203983}}, {'timestamp': '2023-08-22T18:36:56.628Z', 'ingestedTimestamp': '2023-08-22T18:36:56.628Z', 'incoming': {'deviceGuid': '5a95dd2c-8f69-4bb9-a1a3-bfd4bc8f1b58', 'channel': 'temperatura'}, 'payload': {'deviceId': 'My_favorite_thermometer', 'metric': 'Celsius', 'value': 12.50265503}}, {'timestamp': '2023-08-22T18:36:58.641Z', 'ingestedTimestamp': '2023-08-22T18:36:58.641Z', 'incoming': {'deviceGuid': '5a95dd2c-8f69-4bb9-a1a3-bfd4bc8f1b58', 'channel': 'temperatura'}, 'payload': {'deviceId': 'My_favorite_thermometer', 'metric': 'Celsius', 'value': 12.35710144}}, {'timestamp': '2023-08-22T18:37:00.673Z', 'ingestedTimestamp': '2023-08-22T18:37:00.673Z', 'incoming': {'deviceGuid': '5a95dd2c-8f69-4bb9-a1a3-bfd4bc8f1b58', 'channel': 'temperatura'}, 'payload': {'deviceId': 'My_favorite_thermometer', 'metric': 'Celsius', 'value': 12.35710144}}, {'timestamp': '2023-08-22T18:37:02.723Z', 'ingestedTimestamp': '2023-08-22T18:37:02.723Z', 'incoming': {'deviceGuid': '5a95dd2c-8f69-4bb9-a1a3-bfd4bc8f1b58', 'channel': 'temperatura'}, 'payload': {'deviceId': 'My_favorite_thermometer', 'metric': 'Celsius', 'value': 13.08203983}}, {'timestamp': '2023-08-22T18:37:04.760Z', 'ingestedTimestamp': '2023-08-22T18:37:04.760Z', 'incoming': {'deviceGuid': '5a95dd2c-8f69-4bb9-a1a3-bfd4bc8f1b58', 'channel': 'temperatura'}, 'payload': {'deviceId': 'My_favorite_thermometer', 'metric': 'Celsius', 'value': 13.08203983}}, {'timestamp': '2023-08-22T18:37:06.806Z', 'ingestedTimestamp': '2023-08-22T18:37:06.806Z', 'incoming': {'deviceGuid': '5a95dd2c-8f69-4bb9-a1a3-bfd4bc8f1b58', 'channel': 'temperatura'}, 'payload': {'deviceId': 'My_favorite_thermometer', 'metric': 'Celsius', 'value': 12.64792156}}, {'timestamp': '2023-08-22T18:37:08.903Z', 'ingestedTimestamp': '2023-08-22T18:37:08.903Z', 'incoming': {'deviceGuid': '5a95dd2c-8f69-4bb9-a1a3-bfd4bc8f1b58', 'channel': 'temperatura'}, 'payload': {'deviceId': 'My_favorite_thermometer', 'metric': 'Celsius', 'value': 12.35710144}}, {'timestamp': '2023-08-22T18:37:10.900Z', 'ingestedTimestamp': '2023-08-22T18:37:10.900Z', 'incoming': {'deviceGuid': '5a95dd2c-8f69-4bb9-a1a3-bfd4bc8f1b58', 'channel': 'temperatura'}, 'payload': {'deviceId': 'My_favorite_thermometer', 'metric': 'Celsius', 'value': 12.35710144}}, {'timestamp': '2023-08-22T18:37:12.942Z', 'ingestedTimestamp': '2023-08-22T18:37:12.942Z', 'incoming': {'deviceGuid': '5a95dd2c-8f69-4bb9-a1a3-bfd4bc8f1b58', 'channel': 'temperatura'}, 'payload': {'deviceId': 'My_favorite_thermometer', 'metric': 'Celsius', 'value': 13.08203983}}, {'timestamp': '2023-08-22T18:37:15.047Z', 'ingestedTimestamp': '2023-08-22T18:37:15.047Z', 'incoming': {'deviceGuid': '5a95dd2c-8f69-4bb9-a1a3-bfd4bc8f1b58', 'channel': 'temperatura'}, 'payload': {'deviceId': 'My_favorite_thermometer', 'metric': 'Celsius', 'value': 12.35710144}}, {'timestamp': '2023-08-22T18:37:17.034Z', 'ingestedTimestamp': '2023-08-22T18:37:17.034Z', 'incoming': {'deviceGuid': '5a95dd2c-8f69-4bb9-a1a3-bfd4bc8f1b58', 'channel': 'temperatura'}, 'payload': {'deviceId': 'My_favorite_thermometer', 'metric': 'Celsius', 'value': 12.35710144}}, {'timestamp': '2023-08-22T18:37:19.078Z', 'ingestedTimestamp': '2023-08-22T18:37:19.078Z', 'incoming': {'deviceGuid': '5a95dd2c-8f69-4bb9-a1a3-bfd4bc8f1b58', 'channel': 'temperatura'}, 'payload': {'deviceId': 'My_favorite_thermometer', 'metric': 'Celsius', 'value': 12.35710144}}, {'timestamp': '2023-08-22T18:37:21.123Z', 'ingestedTimestamp': '2023-08-22T18:37:21.123Z', 'incoming': {'deviceGuid': '5a95dd2c-8f69-4bb9-a1a3-bfd4bc8f1b58', 'channel': 'temperatura'}, 'payload': {'deviceId': 'My_favorite_thermometer', 'metric': 'Celsius', 'value': 12.35710144}}, {'timestamp': '2023-08-22T18:37:23.184Z', 'ingestedTimestamp': '2023-08-22T18:37:23.184Z', 'incoming': {'deviceGuid': '5a95dd2c-8f69-4bb9-a1a3-bfd4bc8f1b58', 'channel': 'temperatura'}, 'payload': {'deviceId': 'My_favorite_thermometer', 'metric': 'Celsius', 'value': 12.35710144}}, {'timestamp': '2023-08-22T18:37:25.223Z', 'ingestedTimestamp': '2023-08-22T18:37:25.223Z', 'incoming': {'deviceGuid': '5a95dd2c-8f69-4bb9-a1a3-bfd4bc8f1b58', 'channel': 'temperatura'}, 'payload': {'deviceId': 'My_favorite_thermometer', 'metric': 'Celsius', 'value': 12.35710144}}, {'timestamp': '2023-08-22T18:37:27.273Z', 'ingestedTimestamp': '2023-08-22T18:37:27.273Z', 'incoming': {'deviceGuid': '5a95dd2c-8f69-4bb9-a1a3-bfd4bc8f1b58', 'channel': 'temperatura'}, 'payload': {'deviceId': 'My_favorite_thermometer', 'metric': 'Celsius', 'value': 12.50265503}}, {'timestamp': '2023-08-22T18:37:29.308Z', 'ingestedTimestamp': '2023-08-22T18:37:29.308Z', 'incoming': {'deviceGuid': '5a95dd2c-8f69-4bb9-a1a3-bfd4bc8f1b58', 'channel': 'temperatura'}, 'payload': {'deviceId': 'My_favorite_thermometer', 'metric': 'Celsius', 'value': 12.50265503}}, {'timestamp': '2023-08-22T18:37:31.354Z', 'ingestedTimestamp': '2023-08-22T18:37:31.354Z', 'incoming': {'deviceGuid': '5a95dd2c-8f69-4bb9-a1a3-bfd4bc8f1b58', 'channel': 'temperatura'}, 'payload': {'deviceId': 'My_favorite_thermometer', 'metric': 'Celsius', 'value': 12.50265503}}, {'timestamp': '2023-08-22T18:37:33.422Z', 'ingestedTimestamp': '2023-08-22T18:37:33.422Z', 'incoming': {'deviceGuid': '5a95dd2c-8f69-4bb9-a1a3-bfd4bc8f1b58', 'channel': 'temperatura'}, 'payload': {'deviceId': 'My_favorite_thermometer', 'metric': 'Celsius', 'value': 13.08203983}}, {'timestamp': '2023-08-22T18:37:35.444Z', 'ingestedTimestamp': '2023-08-22T18:37:35.444Z', 'incoming': {'deviceGuid': '5a95dd2c-8f69-4bb9-a1a3-bfd4bc8f1b58', 'channel': 'temperatura'}, 'payload': {'deviceId': 'My_favorite_thermometer', 'metric': 'Celsius', 'value': 13.08203983}}, {'timestamp': '2023-08-22T18:37:37.507Z', 'ingestedTimestamp': '2023-08-22T18:37:37.507Z', 'incoming': {'deviceGuid': '5a95dd2c-8f69-4bb9-a1a3-bfd4bc8f1b58', 'channel': 'temperatura'}, 'payload': {'deviceId': 'My_favorite_thermometer', 'metric': 'Celsius', 'value': 12.93761253}}, {'timestamp': '2023-08-22T18:37:39.545Z', 'ingestedTimestamp': '2023-08-22T18:37:39.545Z', 'incoming': {'deviceGuid': '5a95dd2c-8f69-4bb9-a1a3-bfd4bc8f1b58', 'channel': 'temperatura'}, 'payload': {'deviceId': 'My_favorite_thermometer', 'metric': 'Celsius', 'value': 12.93761253}}, {'timestamp': '2023-08-22T18:37:41.583Z', 'ingestedTimestamp': '2023-08-22T18:37:41.583Z', 'incoming': {'deviceGuid': '5a95dd2c-8f69-4bb9-a1a3-bfd4bc8f1b58', 'channel': 'temperatura'}, 'payload': {'deviceId': 'My_favorite_thermometer', 'metric': 'Celsius', 'value': 12.93761253}}, {'timestamp': '2023-08-22T18:37:43.631Z', 'ingestedTimestamp': '2023-08-22T18:37:43.631Z', 'incoming': {'deviceGuid': '5a95dd2c-8f69-4bb9-a1a3-bfd4bc8f1b58', 'channel': 'temperatura'}, 'payload': {'deviceId': 'My_favorite_thermometer', 'metric': 'Celsius', 'value': 12.93761253}}, {'timestamp': '2023-08-22T18:37:45.679Z', 'ingestedTimestamp': '2023-08-22T18:37:45.679Z', 'incoming': {'deviceGuid': '5a95dd2c-8f69-4bb9-a1a3-bfd4bc8f1b58', 'channel': 'temperatura'}, 'payload': {'deviceId': 'My_favorite_thermometer', 'metric': 'Celsius', 'value': 12.93761253}}, {'timestamp': '2023-08-22T18:37:47.720Z', 'ingestedTimestamp': '2023-08-22T18:37:47.720Z', 'incoming': {'deviceGuid': '5a95dd2c-8f69-4bb9-a1a3-bfd4bc8f1b58', 'channel': 'temperatura'}, 'payload': {'deviceId': 'My_favorite_thermometer', 'metric': 'Celsius', 'value': 13.08203983}}, {'timestamp': '2023-08-22T18:37:49.766Z', 'ingestedTimestamp': '2023-08-22T18:37:49.766Z', 'incoming': {'deviceGuid': '5a95dd2c-8f69-4bb9-a1a3-bfd4bc8f1b58', 'channel': 'temperatura'}, 'payload': {'deviceId': 'My_favorite_thermometer', 'metric': 'Celsius', 'value': 13.08203983}}, {'timestamp': '2023-08-22T18:37:51.816Z', 'ingestedTimestamp': '2023-08-22T18:37:51.816Z', 'incoming': {'deviceGuid': '5a95dd2c-8f69-4bb9-a1a3-bfd4bc8f1b58', 'channel': 'temperatura'}, 'payload': {'deviceId': 'My_favorite_thermometer', 'metric': 'Celsius', 'value': 13.08203983}}, {'timestamp': '2023-08-22T18:37:53.890Z', 'ingestedTimestamp': '2023-08-22T18:37:53.890Z', 'incoming': {'deviceGuid': '5a95dd2c-8f69-4bb9-a1a3-bfd4bc8f1b58', 'channel': 'temperatura'}, 'payload': {'deviceId': 'My_favorite_thermometer', 'metric': 'Celsius', 'value': 13.08203983}}, {'timestamp': '2023-08-22T18:37:55.903Z', 'ingestedTimestamp': '2023-08-22T18:37:55.903Z', 'incoming': {'deviceGuid': '5a95dd2c-8f69-4bb9-a1a3-bfd4bc8f1b58', 'channel': 'temperatura'}, 'payload': {'deviceId': 'My_favorite_thermometer', 'metric': 'Celsius', 'value': 13.08203983}}, {'timestamp': '2023-08-22T18:37:58.016Z', 'ingestedTimestamp': '2023-08-22T18:37:58.016Z', 'incoming': {'deviceGuid': '5a95dd2c-8f69-4bb9-a1a3-bfd4bc8f1b58', 'channel': 'temperatura'}, 'payload': {'deviceId': 'My_favorite_thermometer', 'metric': 'Celsius', 'value': 13.08203983}}, {'timestamp': '2023-08-22T18:37:59.998Z', 'ingestedTimestamp': '2023-08-22T18:37:59.998Z', 'incoming': {'deviceGuid': '5a95dd2c-8f69-4bb9-a1a3-bfd4bc8f1b58', 'channel': 'temperatura'}, 'payload': {'deviceId': 'My_favorite_thermometer', 'metric': 'Celsius', 'value': 13.65703869}}, {'timestamp': '2023-08-22T18:38:02.036Z', 'ingestedTimestamp': '2023-08-22T18:38:02.036Z', 'incoming': {'deviceGuid': '5a95dd2c-8f69-4bb9-a1a3-bfd4bc8f1b58', 'channel': 'temperatura'}, 'payload': {'deviceId': 'My_favorite_thermometer', 'metric': 'Celsius', 'value': 13.08203983}}, {'timestamp': '2023-08-22T18:38:04.100Z', 'ingestedTimestamp': '2023-08-22T18:38:04.100Z', 'incoming': {'deviceGuid': '5a95dd2c-8f69-4bb9-a1a3-bfd4bc8f1b58', 'channel': 'temperatura'}, 'payload': {'deviceId': 'My_favorite_thermometer', 'metric': 'Celsius', 'value': 13.08203983}}, {'timestamp': '2023-08-22T18:38:06.130Z', 'ingestedTimestamp': '2023-08-22T18:38:06.130Z', 'incoming': {'deviceGuid': '5a95dd2c-8f69-4bb9-a1a3-bfd4bc8f1b58', 'channel': 'temperatura'}, 'payload': {'deviceId': 'My_favorite_thermometer', 'metric': 'Celsius', 'value': 13.65703869}}, {'timestamp': '2023-08-22T18:38:08.201Z', 'ingestedTimestamp': '2023-08-22T18:38:08.201Z', 'incoming': {'deviceGuid': '5a95dd2c-8f69-4bb9-a1a3-bfd4bc8f1b58', 'channel': 'temperatura'}, 'payload': {'deviceId': 'My_favorite_thermometer', 'metric': 'Celsius', 'value': 13.08203983}}, {'timestamp': '2023-08-22T18:38:10.237Z', 'ingestedTimestamp': '2023-08-22T18:38:10.237Z', 'incoming': {'deviceGuid': '5a95dd2c-8f69-4bb9-a1a3-bfd4bc8f1b58', 'channel': 'temperatura'}, 'payload': {'deviceId': 'My_favorite_thermometer', 'metric': 'Celsius', 'value': 13.08203983}}, {'timestamp': '2023-08-22T18:38:12.315Z', 'ingestedTimestamp': '2023-08-22T18:38:12.315Z', 'incoming': {'deviceGuid': '5a95dd2c-8f69-4bb9-a1a3-bfd4bc8f1b58', 'channel': 'temperatura'}, 'payload': {'deviceId': 'My_favorite_thermometer', 'metric': 'Celsius', 'value': 13.65703869}}, {'timestamp': '2023-08-22T18:38:14.309Z', 'ingestedTimestamp': '2023-08-22T18:38:14.309Z', 'incoming': {'deviceGuid': '5a95dd2c-8f69-4bb9-a1a3-bfd4bc8f1b58', 'channel': 'temperatura'}, 'payload': {'deviceId': 'My_favorite_thermometer', 'metric': 'Celsius', 'value': 13.08203983}}, {'timestamp': '2023-08-22T18:38:16.363Z', 'ingestedTimestamp': '2023-08-22T18:38:16.363Z', 'incoming': {'deviceGuid': '5a95dd2c-8f69-4bb9-a1a3-bfd4bc8f1b58', 'channel': 'temperatura'}, 'payload': {'deviceId': 'My_favorite_thermometer', 'metric': 'Celsius', 'value': 13.08203983}}, {'timestamp': '2023-08-22T18:38:18.409Z', 'ingestedTimestamp': '2023-08-22T18:38:18.409Z', 'incoming': {'deviceGuid': '5a95dd2c-8f69-4bb9-a1a3-bfd4bc8f1b58', 'channel': 'temperatura'}, 'payload': {'deviceId': 'My_favorite_thermometer', 'metric': 'Celsius', 'value': 13.08203983}}, {'timestamp': '2023-08-22T18:38:20.513Z', 'ingestedTimestamp': '2023-08-22T18:38:20.513Z', 'incoming': {'deviceGuid': '5a95dd2c-8f69-4bb9-a1a3-bfd4bc8f1b58', 'channel': 'temperatura'}, 'payload': {'deviceId': 'My_favorite_thermometer', 'metric': 'Celsius', 'value': 13.65703869}}, {'timestamp': '2023-08-22T18:38:22.524Z', 'ingestedTimestamp': '2023-08-22T18:38:22.524Z', 'incoming': {'deviceGuid': '5a95dd2c-8f69-4bb9-a1a3-bfd4bc8f1b58', 'channel': 'temperatura'}, 'payload': {'deviceId': 'My_favorite_thermometer', 'metric': 'Celsius', 'value': 13.65703869}}]\n"
          ]
        }
      ],
      "source": [
        "canal = 'temperatura'\n",
        "dt_start = arrow.utcnow().to('America/Sao_Paulo').floor('day')\n",
        "dt_start = dt_start.shift(days=-1)\n",
        "stats = oauth.get(\"https://api.demo.konkerlabs.net/v1/{}/incomingEvents?q=device:{} channel:{} timestamp:>{}&sort=oldest&limit=10000\".format(application,guid_term,canal,dt_start.isoformat())).json()['result']\n",
        "print(stats)"
      ]
    },
    {
      "cell_type": "markdown",
      "metadata": {
        "id": "_ydfurLDd8o4"
      },
      "source": [
        "Caso tudo tenha funcionado como esperado, você deve estar vendo seus dados de temperatura logo acima. Para facilitar a visualização e análise dos dados, podemos transformar em um formato tabular com o Pandas."
      ]
    },
    {
      "cell_type": "code",
      "execution_count": 17,
      "metadata": {
        "id": "aoXjutPTd8o4",
        "colab": {
          "base_uri": "https://localhost:8080/",
          "height": 490
        },
        "outputId": "c298a766-20d2-43f8-80ec-2812ee5195fa"
      },
      "outputs": [
        {
          "output_type": "stream",
          "name": "stderr",
          "text": [
            "<ipython-input-17-fa95c8e0b6cb>:2: FutureWarning: pandas.io.json.json_normalize is deprecated, use pandas.json_normalize instead.\n",
            "  stats_df = json_normalize(stats).set_index('timestamp')\n"
          ]
        },
        {
          "output_type": "execute_result",
          "data": {
            "text/plain": [
              "                                 ingestedTimestamp  \\\n",
              "timestamp                                            \n",
              "2023-08-22T18:33:58.670Z  2023-08-22T18:33:58.670Z   \n",
              "2023-08-22T18:34:00.711Z  2023-08-22T18:34:00.711Z   \n",
              "2023-08-22T18:34:04.587Z  2023-08-22T18:34:04.587Z   \n",
              "2023-08-22T18:34:04.803Z  2023-08-22T18:34:04.803Z   \n",
              "2023-08-22T18:34:06.841Z  2023-08-22T18:34:06.841Z   \n",
              "...                                            ...   \n",
              "2023-08-22T18:38:14.309Z  2023-08-22T18:38:14.309Z   \n",
              "2023-08-22T18:38:16.363Z  2023-08-22T18:38:16.363Z   \n",
              "2023-08-22T18:38:18.409Z  2023-08-22T18:38:18.409Z   \n",
              "2023-08-22T18:38:20.513Z  2023-08-22T18:38:20.513Z   \n",
              "2023-08-22T18:38:22.524Z  2023-08-22T18:38:22.524Z   \n",
              "\n",
              "                                           incoming.deviceGuid  \\\n",
              "timestamp                                                        \n",
              "2023-08-22T18:33:58.670Z  5a95dd2c-8f69-4bb9-a1a3-bfd4bc8f1b58   \n",
              "2023-08-22T18:34:00.711Z  5a95dd2c-8f69-4bb9-a1a3-bfd4bc8f1b58   \n",
              "2023-08-22T18:34:04.587Z  5a95dd2c-8f69-4bb9-a1a3-bfd4bc8f1b58   \n",
              "2023-08-22T18:34:04.803Z  5a95dd2c-8f69-4bb9-a1a3-bfd4bc8f1b58   \n",
              "2023-08-22T18:34:06.841Z  5a95dd2c-8f69-4bb9-a1a3-bfd4bc8f1b58   \n",
              "...                                                        ...   \n",
              "2023-08-22T18:38:14.309Z  5a95dd2c-8f69-4bb9-a1a3-bfd4bc8f1b58   \n",
              "2023-08-22T18:38:16.363Z  5a95dd2c-8f69-4bb9-a1a3-bfd4bc8f1b58   \n",
              "2023-08-22T18:38:18.409Z  5a95dd2c-8f69-4bb9-a1a3-bfd4bc8f1b58   \n",
              "2023-08-22T18:38:20.513Z  5a95dd2c-8f69-4bb9-a1a3-bfd4bc8f1b58   \n",
              "2023-08-22T18:38:22.524Z  5a95dd2c-8f69-4bb9-a1a3-bfd4bc8f1b58   \n",
              "\n",
              "                         incoming.channel         payload.deviceId  \\\n",
              "timestamp                                                            \n",
              "2023-08-22T18:33:58.670Z      temperatura  My_favorite_thermometer   \n",
              "2023-08-22T18:34:00.711Z      temperatura  My_favorite_thermometer   \n",
              "2023-08-22T18:34:04.587Z      temperatura  My_favorite_thermometer   \n",
              "2023-08-22T18:34:04.803Z      temperatura  My_favorite_thermometer   \n",
              "2023-08-22T18:34:06.841Z      temperatura  My_favorite_thermometer   \n",
              "...                                   ...                      ...   \n",
              "2023-08-22T18:38:14.309Z      temperatura  My_favorite_thermometer   \n",
              "2023-08-22T18:38:16.363Z      temperatura  My_favorite_thermometer   \n",
              "2023-08-22T18:38:18.409Z      temperatura  My_favorite_thermometer   \n",
              "2023-08-22T18:38:20.513Z      temperatura  My_favorite_thermometer   \n",
              "2023-08-22T18:38:22.524Z      temperatura  My_favorite_thermometer   \n",
              "\n",
              "                         payload.metric  payload.value  \n",
              "timestamp                                               \n",
              "2023-08-22T18:33:58.670Z        Celsius      13.657039  \n",
              "2023-08-22T18:34:00.711Z        Celsius      13.082040  \n",
              "2023-08-22T18:34:04.587Z        Celsius      13.082040  \n",
              "2023-08-22T18:34:04.803Z        Celsius      13.082040  \n",
              "2023-08-22T18:34:06.841Z        Celsius      13.082040  \n",
              "...                                 ...            ...  \n",
              "2023-08-22T18:38:14.309Z        Celsius      13.082040  \n",
              "2023-08-22T18:38:16.363Z        Celsius      13.082040  \n",
              "2023-08-22T18:38:18.409Z        Celsius      13.082040  \n",
              "2023-08-22T18:38:20.513Z        Celsius      13.657039  \n",
              "2023-08-22T18:38:22.524Z        Celsius      13.657039  \n",
              "\n",
              "[130 rows x 6 columns]"
            ],
            "text/html": [
              "\n",
              "  <div id=\"df-61d73417-c62d-42fe-8f36-f115285bd5c8\" class=\"colab-df-container\">\n",
              "    <div>\n",
              "<style scoped>\n",
              "    .dataframe tbody tr th:only-of-type {\n",
              "        vertical-align: middle;\n",
              "    }\n",
              "\n",
              "    .dataframe tbody tr th {\n",
              "        vertical-align: top;\n",
              "    }\n",
              "\n",
              "    .dataframe thead th {\n",
              "        text-align: right;\n",
              "    }\n",
              "</style>\n",
              "<table border=\"1\" class=\"dataframe\">\n",
              "  <thead>\n",
              "    <tr style=\"text-align: right;\">\n",
              "      <th></th>\n",
              "      <th>ingestedTimestamp</th>\n",
              "      <th>incoming.deviceGuid</th>\n",
              "      <th>incoming.channel</th>\n",
              "      <th>payload.deviceId</th>\n",
              "      <th>payload.metric</th>\n",
              "      <th>payload.value</th>\n",
              "    </tr>\n",
              "    <tr>\n",
              "      <th>timestamp</th>\n",
              "      <th></th>\n",
              "      <th></th>\n",
              "      <th></th>\n",
              "      <th></th>\n",
              "      <th></th>\n",
              "      <th></th>\n",
              "    </tr>\n",
              "  </thead>\n",
              "  <tbody>\n",
              "    <tr>\n",
              "      <th>2023-08-22T18:33:58.670Z</th>\n",
              "      <td>2023-08-22T18:33:58.670Z</td>\n",
              "      <td>5a95dd2c-8f69-4bb9-a1a3-bfd4bc8f1b58</td>\n",
              "      <td>temperatura</td>\n",
              "      <td>My_favorite_thermometer</td>\n",
              "      <td>Celsius</td>\n",
              "      <td>13.657039</td>\n",
              "    </tr>\n",
              "    <tr>\n",
              "      <th>2023-08-22T18:34:00.711Z</th>\n",
              "      <td>2023-08-22T18:34:00.711Z</td>\n",
              "      <td>5a95dd2c-8f69-4bb9-a1a3-bfd4bc8f1b58</td>\n",
              "      <td>temperatura</td>\n",
              "      <td>My_favorite_thermometer</td>\n",
              "      <td>Celsius</td>\n",
              "      <td>13.082040</td>\n",
              "    </tr>\n",
              "    <tr>\n",
              "      <th>2023-08-22T18:34:04.587Z</th>\n",
              "      <td>2023-08-22T18:34:04.587Z</td>\n",
              "      <td>5a95dd2c-8f69-4bb9-a1a3-bfd4bc8f1b58</td>\n",
              "      <td>temperatura</td>\n",
              "      <td>My_favorite_thermometer</td>\n",
              "      <td>Celsius</td>\n",
              "      <td>13.082040</td>\n",
              "    </tr>\n",
              "    <tr>\n",
              "      <th>2023-08-22T18:34:04.803Z</th>\n",
              "      <td>2023-08-22T18:34:04.803Z</td>\n",
              "      <td>5a95dd2c-8f69-4bb9-a1a3-bfd4bc8f1b58</td>\n",
              "      <td>temperatura</td>\n",
              "      <td>My_favorite_thermometer</td>\n",
              "      <td>Celsius</td>\n",
              "      <td>13.082040</td>\n",
              "    </tr>\n",
              "    <tr>\n",
              "      <th>2023-08-22T18:34:06.841Z</th>\n",
              "      <td>2023-08-22T18:34:06.841Z</td>\n",
              "      <td>5a95dd2c-8f69-4bb9-a1a3-bfd4bc8f1b58</td>\n",
              "      <td>temperatura</td>\n",
              "      <td>My_favorite_thermometer</td>\n",
              "      <td>Celsius</td>\n",
              "      <td>13.082040</td>\n",
              "    </tr>\n",
              "    <tr>\n",
              "      <th>...</th>\n",
              "      <td>...</td>\n",
              "      <td>...</td>\n",
              "      <td>...</td>\n",
              "      <td>...</td>\n",
              "      <td>...</td>\n",
              "      <td>...</td>\n",
              "    </tr>\n",
              "    <tr>\n",
              "      <th>2023-08-22T18:38:14.309Z</th>\n",
              "      <td>2023-08-22T18:38:14.309Z</td>\n",
              "      <td>5a95dd2c-8f69-4bb9-a1a3-bfd4bc8f1b58</td>\n",
              "      <td>temperatura</td>\n",
              "      <td>My_favorite_thermometer</td>\n",
              "      <td>Celsius</td>\n",
              "      <td>13.082040</td>\n",
              "    </tr>\n",
              "    <tr>\n",
              "      <th>2023-08-22T18:38:16.363Z</th>\n",
              "      <td>2023-08-22T18:38:16.363Z</td>\n",
              "      <td>5a95dd2c-8f69-4bb9-a1a3-bfd4bc8f1b58</td>\n",
              "      <td>temperatura</td>\n",
              "      <td>My_favorite_thermometer</td>\n",
              "      <td>Celsius</td>\n",
              "      <td>13.082040</td>\n",
              "    </tr>\n",
              "    <tr>\n",
              "      <th>2023-08-22T18:38:18.409Z</th>\n",
              "      <td>2023-08-22T18:38:18.409Z</td>\n",
              "      <td>5a95dd2c-8f69-4bb9-a1a3-bfd4bc8f1b58</td>\n",
              "      <td>temperatura</td>\n",
              "      <td>My_favorite_thermometer</td>\n",
              "      <td>Celsius</td>\n",
              "      <td>13.082040</td>\n",
              "    </tr>\n",
              "    <tr>\n",
              "      <th>2023-08-22T18:38:20.513Z</th>\n",
              "      <td>2023-08-22T18:38:20.513Z</td>\n",
              "      <td>5a95dd2c-8f69-4bb9-a1a3-bfd4bc8f1b58</td>\n",
              "      <td>temperatura</td>\n",
              "      <td>My_favorite_thermometer</td>\n",
              "      <td>Celsius</td>\n",
              "      <td>13.657039</td>\n",
              "    </tr>\n",
              "    <tr>\n",
              "      <th>2023-08-22T18:38:22.524Z</th>\n",
              "      <td>2023-08-22T18:38:22.524Z</td>\n",
              "      <td>5a95dd2c-8f69-4bb9-a1a3-bfd4bc8f1b58</td>\n",
              "      <td>temperatura</td>\n",
              "      <td>My_favorite_thermometer</td>\n",
              "      <td>Celsius</td>\n",
              "      <td>13.657039</td>\n",
              "    </tr>\n",
              "  </tbody>\n",
              "</table>\n",
              "<p>130 rows × 6 columns</p>\n",
              "</div>\n",
              "    <div class=\"colab-df-buttons\">\n",
              "\n",
              "  <div class=\"colab-df-container\">\n",
              "    <button class=\"colab-df-convert\" onclick=\"convertToInteractive('df-61d73417-c62d-42fe-8f36-f115285bd5c8')\"\n",
              "            title=\"Convert this dataframe to an interactive table.\"\n",
              "            style=\"display:none;\">\n",
              "\n",
              "  <svg xmlns=\"http://www.w3.org/2000/svg\" height=\"24px\" viewBox=\"0 -960 960 960\">\n",
              "    <path d=\"M120-120v-720h720v720H120Zm60-500h600v-160H180v160Zm220 220h160v-160H400v160Zm0 220h160v-160H400v160ZM180-400h160v-160H180v160Zm440 0h160v-160H620v160ZM180-180h160v-160H180v160Zm440 0h160v-160H620v160Z\"/>\n",
              "  </svg>\n",
              "    </button>\n",
              "\n",
              "  <style>\n",
              "    .colab-df-container {\n",
              "      display:flex;\n",
              "      gap: 12px;\n",
              "    }\n",
              "\n",
              "    .colab-df-convert {\n",
              "      background-color: #E8F0FE;\n",
              "      border: none;\n",
              "      border-radius: 50%;\n",
              "      cursor: pointer;\n",
              "      display: none;\n",
              "      fill: #1967D2;\n",
              "      height: 32px;\n",
              "      padding: 0 0 0 0;\n",
              "      width: 32px;\n",
              "    }\n",
              "\n",
              "    .colab-df-convert:hover {\n",
              "      background-color: #E2EBFA;\n",
              "      box-shadow: 0px 1px 2px rgba(60, 64, 67, 0.3), 0px 1px 3px 1px rgba(60, 64, 67, 0.15);\n",
              "      fill: #174EA6;\n",
              "    }\n",
              "\n",
              "    .colab-df-buttons div {\n",
              "      margin-bottom: 4px;\n",
              "    }\n",
              "\n",
              "    [theme=dark] .colab-df-convert {\n",
              "      background-color: #3B4455;\n",
              "      fill: #D2E3FC;\n",
              "    }\n",
              "\n",
              "    [theme=dark] .colab-df-convert:hover {\n",
              "      background-color: #434B5C;\n",
              "      box-shadow: 0px 1px 3px 1px rgba(0, 0, 0, 0.15);\n",
              "      filter: drop-shadow(0px 1px 2px rgba(0, 0, 0, 0.3));\n",
              "      fill: #FFFFFF;\n",
              "    }\n",
              "  </style>\n",
              "\n",
              "    <script>\n",
              "      const buttonEl =\n",
              "        document.querySelector('#df-61d73417-c62d-42fe-8f36-f115285bd5c8 button.colab-df-convert');\n",
              "      buttonEl.style.display =\n",
              "        google.colab.kernel.accessAllowed ? 'block' : 'none';\n",
              "\n",
              "      async function convertToInteractive(key) {\n",
              "        const element = document.querySelector('#df-61d73417-c62d-42fe-8f36-f115285bd5c8');\n",
              "        const dataTable =\n",
              "          await google.colab.kernel.invokeFunction('convertToInteractive',\n",
              "                                                    [key], {});\n",
              "        if (!dataTable) return;\n",
              "\n",
              "        const docLinkHtml = 'Like what you see? Visit the ' +\n",
              "          '<a target=\"_blank\" href=https://colab.research.google.com/notebooks/data_table.ipynb>data table notebook</a>'\n",
              "          + ' to learn more about interactive tables.';\n",
              "        element.innerHTML = '';\n",
              "        dataTable['output_type'] = 'display_data';\n",
              "        await google.colab.output.renderOutput(dataTable, element);\n",
              "        const docLink = document.createElement('div');\n",
              "        docLink.innerHTML = docLinkHtml;\n",
              "        element.appendChild(docLink);\n",
              "      }\n",
              "    </script>\n",
              "  </div>\n",
              "\n",
              "\n",
              "<div id=\"df-a5e444c2-160d-422e-972a-24ae3bc02298\">\n",
              "  <button class=\"colab-df-quickchart\" onclick=\"quickchart('df-a5e444c2-160d-422e-972a-24ae3bc02298')\"\n",
              "            title=\"Suggest charts.\"\n",
              "            style=\"display:none;\">\n",
              "\n",
              "<svg xmlns=\"http://www.w3.org/2000/svg\" height=\"24px\"viewBox=\"0 0 24 24\"\n",
              "     width=\"24px\">\n",
              "    <g>\n",
              "        <path d=\"M19 3H5c-1.1 0-2 .9-2 2v14c0 1.1.9 2 2 2h14c1.1 0 2-.9 2-2V5c0-1.1-.9-2-2-2zM9 17H7v-7h2v7zm4 0h-2V7h2v10zm4 0h-2v-4h2v4z\"/>\n",
              "    </g>\n",
              "</svg>\n",
              "  </button>\n",
              "\n",
              "<style>\n",
              "  .colab-df-quickchart {\n",
              "    background-color: #E8F0FE;\n",
              "    border: none;\n",
              "    border-radius: 50%;\n",
              "    cursor: pointer;\n",
              "    display: none;\n",
              "    fill: #1967D2;\n",
              "    height: 32px;\n",
              "    padding: 0 0 0 0;\n",
              "    width: 32px;\n",
              "  }\n",
              "\n",
              "  .colab-df-quickchart:hover {\n",
              "    background-color: #E2EBFA;\n",
              "    box-shadow: 0px 1px 2px rgba(60, 64, 67, 0.3), 0px 1px 3px 1px rgba(60, 64, 67, 0.15);\n",
              "    fill: #174EA6;\n",
              "  }\n",
              "\n",
              "  [theme=dark] .colab-df-quickchart {\n",
              "    background-color: #3B4455;\n",
              "    fill: #D2E3FC;\n",
              "  }\n",
              "\n",
              "  [theme=dark] .colab-df-quickchart:hover {\n",
              "    background-color: #434B5C;\n",
              "    box-shadow: 0px 1px 3px 1px rgba(0, 0, 0, 0.15);\n",
              "    filter: drop-shadow(0px 1px 2px rgba(0, 0, 0, 0.3));\n",
              "    fill: #FFFFFF;\n",
              "  }\n",
              "</style>\n",
              "\n",
              "  <script>\n",
              "    async function quickchart(key) {\n",
              "      const charts = await google.colab.kernel.invokeFunction(\n",
              "          'suggestCharts', [key], {});\n",
              "    }\n",
              "    (() => {\n",
              "      let quickchartButtonEl =\n",
              "        document.querySelector('#df-a5e444c2-160d-422e-972a-24ae3bc02298 button');\n",
              "      quickchartButtonEl.style.display =\n",
              "        google.colab.kernel.accessAllowed ? 'block' : 'none';\n",
              "    })();\n",
              "  </script>\n",
              "</div>\n",
              "    </div>\n",
              "  </div>\n"
            ]
          },
          "metadata": {},
          "execution_count": 17
        }
      ],
      "source": [
        "from pandas.io.json import json_normalize\n",
        "stats_df = json_normalize(stats).set_index('timestamp')\n",
        "stats_df = stats_df[3:]\n",
        "stats_df"
      ]
    },
    {
      "cell_type": "markdown",
      "metadata": {
        "id": "2MDTpr9Wd8o4"
      },
      "source": [
        "Ótimo! Agora os dados estão em um formato mais fácil de ler. Mas podemos também fazer um gráfico bem simples!"
      ]
    },
    {
      "cell_type": "code",
      "execution_count": 18,
      "metadata": {
        "id": "Qv9ILLWMd8o4",
        "colab": {
          "base_uri": "https://localhost:8080/",
          "height": 388
        },
        "outputId": "540488ec-4c36-48c6-85cc-26746e32c7fa"
      },
      "outputs": [
        {
          "output_type": "display_data",
          "data": {
            "text/plain": [
              "<Figure size 1500x400 with 1 Axes>"
            ],
            "image/png": "[encoded data removed]"
          },
          "metadata": {}
        }
      ],
      "source": [
        "%matplotlib inline\n",
        "import matplotlib.pyplot as plt\n",
        "plt.figure(figsize=(15,4))\n",
        "\n",
        "stats_df['payload.value'].plot();"
      ]
    },
    {
      "cell_type": "markdown",
      "metadata": {
        "id": "SSXDk9XId8o4"
      },
      "source": [
        "Agora começa a parte final desse trabalho. Vamos rodar um algoritmo conhecido com KMeans de aprendizado não supervisionado tentando encontrar os dois clusters que melhor separam nosso dataset. Como você pode observar abaixo, estamos usando a biblioteca SKLearn do Python para isso."
      ]
    },
    {
      "cell_type": "code",
      "execution_count": 19,
      "metadata": {
        "id": "PbhN30wid8o4",
        "colab": {
          "base_uri": "https://localhost:8080/",
          "height": 129
        },
        "outputId": "9c731701-31b5-492c-ffb0-9444dd736c16"
      },
      "outputs": [
        {
          "output_type": "stream",
          "name": "stderr",
          "text": [
            "/usr/local/lib/python3.10/dist-packages/sklearn/cluster/_kmeans.py:870: FutureWarning: The default value of `n_init` will change from 10 to 'auto' in 1.4. Set the value of `n_init` explicitly to suppress the warning\n",
            "  warnings.warn(\n"
          ]
        },
        {
          "output_type": "execute_result",
          "data": {
            "text/plain": [
              "KMeans(n_clusters=2)"
            ],
            "text/html": [
              "<style>#sk-container-id-1 {color: black;background-color: white;}#sk-container-id-1 pre{padding: 0;}#sk-container-id-1 div.sk-toggleable {background-color: white;}#sk-container-id-1 label.sk-toggleable__label {cursor: pointer;display: block;width: 100%;margin-bottom: 0;padding: 0.3em;box-sizing: border-box;text-align: center;}#sk-container-id-1 label.sk-toggleable__label-arrow:before {content: \"▸\";float: left;margin-right: 0.25em;color: #696969;}#sk-container-id-1 label.sk-toggleable__label-arrow:hover:before {color: black;}#sk-container-id-1 div.sk-estimator:hover label.sk-toggleable__label-arrow:before {color: black;}#sk-container-id-1 div.sk-toggleable__content {max-height: 0;max-width: 0;overflow: hidden;text-align: left;background-color: #f0f8ff;}#sk-container-id-1 div.sk-toggleable__content pre {margin: 0.2em;color: black;border-radius: 0.25em;background-color: #f0f8ff;}#sk-container-id-1 input.sk-toggleable__control:checked~div.sk-toggleable__content {max-height: 200px;max-width: 100%;overflow: auto;}#sk-container-id-1 input.sk-toggleable__control:checked~label.sk-toggleable__label-arrow:before {content: \"▾\";}#sk-container-id-1 div.sk-estimator input.sk-toggleable__control:checked~label.sk-toggleable__label {background-color: #d4ebff;}#sk-container-id-1 div.sk-label input.sk-toggleable__control:checked~label.sk-toggleable__label {background-color: #d4ebff;}#sk-container-id-1 input.sk-hidden--visually {border: 0;clip: rect(1px 1px 1px 1px);clip: rect(1px, 1px, 1px, 1px);height: 1px;margin: -1px;overflow: hidden;padding: 0;position: absolute;width: 1px;}#sk-container-id-1 div.sk-estimator {font-family: monospace;background-color: #f0f8ff;border: 1px dotted black;border-radius: 0.25em;box-sizing: border-box;margin-bottom: 0.5em;}#sk-container-id-1 div.sk-estimator:hover {background-color: #d4ebff;}#sk-container-id-1 div.sk-parallel-item::after {content: \"\";width: 100%;border-bottom: 1px solid gray;flex-grow: 1;}#sk-container-id-1 div.sk-label:hover label.sk-toggleable__label {background-color: #d4ebff;}#sk-container-id-1 div.sk-serial::before {content: \"\";position: absolute;border-left: 1px solid gray;box-sizing: border-box;top: 0;bottom: 0;left: 50%;z-index: 0;}#sk-container-id-1 div.sk-serial {display: flex;flex-direction: column;align-items: center;background-color: white;padding-right: 0.2em;padding-left: 0.2em;position: relative;}#sk-container-id-1 div.sk-item {position: relative;z-index: 1;}#sk-container-id-1 div.sk-parallel {display: flex;align-items: stretch;justify-content: center;background-color: white;position: relative;}#sk-container-id-1 div.sk-item::before, #sk-container-id-1 div.sk-parallel-item::before {content: \"\";position: absolute;border-left: 1px solid gray;box-sizing: border-box;top: 0;bottom: 0;left: 50%;z-index: -1;}#sk-container-id-1 div.sk-parallel-item {display: flex;flex-direction: column;z-index: 1;position: relative;background-color: white;}#sk-container-id-1 div.sk-parallel-item:first-child::after {align-self: flex-end;width: 50%;}#sk-container-id-1 div.sk-parallel-item:last-child::after {align-self: flex-start;width: 50%;}#sk-container-id-1 div.sk-parallel-item:only-child::after {width: 0;}#sk-container-id-1 div.sk-dashed-wrapped {border: 1px dashed gray;margin: 0 0.4em 0.5em 0.4em;box-sizing: border-box;padding-bottom: 0.4em;background-color: white;}#sk-container-id-1 div.sk-label label {font-family: monospace;font-weight: bold;display: inline-block;line-height: 1.2em;}#sk-container-id-1 div.sk-label-container {text-align: center;}#sk-container-id-1 div.sk-container {/* jupyter's `normalize.less` sets `[hidden] { display: none; }` but bootstrap.min.css set `[hidden] { display: none !important; }` so we also need the `!important` here to be able to override the default hidden behavior on the sphinx rendered scikit-learn.org. See: https://github.com/scikit-learn/scikit-learn/issues/21755 */display: inline-block !important;position: relative;}#sk-container-id-1 div.sk-text-repr-fallback {display: none;}</style><div id=\"sk-container-id-1\" class=\"sk-top-container\"><div class=\"sk-text-repr-fallback\"><pre>KMeans(n_clusters=2)</pre><b>In a Jupyter environment, please rerun this cell to show the HTML representation or trust the notebook. <br />On GitHub, the HTML representation is unable to render, please try loading this page with nbviewer.org.</b></div><div class=\"sk-container\" hidden><div class=\"sk-item\"><div class=\"sk-estimator sk-toggleable\"><input class=\"sk-toggleable__control sk-hidden--visually\" id=\"sk-estimator-id-1\" type=\"checkbox\" checked><label for=\"sk-estimator-id-1\" class=\"sk-toggleable__label sk-toggleable__label-arrow\">KMeans</label><div class=\"sk-toggleable__content\"><pre>KMeans(n_clusters=2)</pre></div></div></div></div></div>"
            ]
          },
          "metadata": {},
          "execution_count": 19
        }
      ],
      "source": [
        "from sklearn.cluster import KMeans\n",
        "kmeans = KMeans(n_clusters=2)\n",
        "kmeans.fit(stats_df['payload.value'].values.reshape(-1, 1))"
      ]
    },
    {
      "cell_type": "markdown",
      "metadata": {
        "id": "PfxBH8Ptd8o4"
      },
      "source": [
        "Nós colocamos como condição a separação em 2 clusters. Vamos ver qual a previsão feita sobre os dados adquiridos:"
      ]
    },
    {
      "cell_type": "code",
      "execution_count": 20,
      "metadata": {
        "id": "q-tC5C9id8o4",
        "colab": {
          "base_uri": "https://localhost:8080/",
          "height": 0
        },
        "outputId": "60f7116c-9a79-45b8-a467-790c5b377932"
      },
      "outputs": [
        {
          "output_type": "execute_result",
          "data": {
            "text/plain": [
              "array([0, 1, 1, 1, 1, 1, 0, 1, 1, 1, 0, 0, 1, 0, 1, 0, 1, 1, 1, 1, 1, 1,\n",
              "       1, 1, 1, 1, 1, 1, 1, 1, 1, 1, 1, 1, 0, 0, 1, 0, 1, 0, 0, 0, 0, 0,\n",
              "       0, 0, 0, 1, 0, 0, 0, 0, 0, 0, 0, 0, 1, 0, 0, 1, 1, 0, 0, 1, 0, 0,\n",
              "       1, 0, 0, 1, 0, 1, 1, 1, 1, 1, 0, 1, 1, 1, 1, 1, 0, 1, 1, 0, 1, 1,\n",
              "       1, 1, 1, 1, 1, 1, 1, 1, 1, 1, 1, 1, 1, 1, 1, 1, 1, 1, 1, 1, 1, 1,\n",
              "       1, 1, 1, 1, 1, 1, 1, 1, 0, 1, 1, 0, 1, 1, 0, 1, 1, 1, 0, 0],\n",
              "      dtype=int32)"
            ]
          },
          "metadata": {},
          "execution_count": 20
        }
      ],
      "source": [
        "predictions = kmeans.predict(stats_df['payload.value'].values.reshape(-1, 1))\n",
        "predictions"
      ]
    },
    {
      "cell_type": "markdown",
      "metadata": {
        "id": "ChIbB_I0d8o4"
      },
      "source": [
        "Vamos observar a temperatura média do primeiro cluster de dados (grupo 0):"
      ]
    },
    {
      "cell_type": "code",
      "execution_count": 21,
      "metadata": {
        "id": "o1zqIrS4d8o4",
        "colab": {
          "base_uri": "https://localhost:8080/",
          "height": 0
        },
        "outputId": "eda4179d-b656-48fb-866a-af0c41ba2070"
      },
      "outputs": [
        {
          "output_type": "stream",
          "name": "stdout",
          "text": [
            "Temperatura média do grupo 0: 13.615919182380955 C\n"
          ]
        }
      ],
      "source": [
        "print('Temperatura média do grupo 0: ' + str(stats_df.loc[predictions == 0]['payload.value'].mean()) + ' C')"
      ]
    },
    {
      "cell_type": "markdown",
      "metadata": {
        "id": "RgBiu0WLd8o4"
      },
      "source": [
        "E agora a temperatura média do segundo cluster (grupo 1):"
      ]
    },
    {
      "cell_type": "code",
      "execution_count": 22,
      "metadata": {
        "id": "uFV1HwzJd8o4",
        "colab": {
          "base_uri": "https://localhost:8080/",
          "height": 0
        },
        "outputId": "689bc09f-5652-4aac-f42f-388fde354ed2"
      },
      "outputs": [
        {
          "output_type": "stream",
          "name": "stdout",
          "text": [
            "Temperatura média do grupo 1: 12.96837602693182 C\n"
          ]
        }
      ],
      "source": [
        "print('Temperatura média do grupo 1: ' + str(stats_df.loc[predictions == 1]['payload.value'].mean()) + ' C')"
      ]
    },
    {
      "cell_type": "markdown",
      "metadata": {
        "id": "mpsE2KYKd8o4"
      },
      "source": [
        "Vamos ver agora como se comportam os dois clusters encontrados em um gráfico.\n",
        "\n",
        "Nota: Nessa segunda versão do Notebook estou usando a biblioteca Bokeh para tentar evitar o gargalo em processamento gerado pelo Matplotlib na sala de aula. Caso você ainda encontre problemas em gerar o gráfico, por favor me envie um email em luis@konkerlabs.com"
      ]
    },
    {
      "cell_type": "code",
      "execution_count": 23,
      "metadata": {
        "id": "RCCgHP5Jd8o4"
      },
      "outputs": [],
      "source": [
        "from bokeh.io import output_notebook, show\n",
        "from bokeh.plotting import figure\n",
        "import pandas as pd\n",
        "output_notebook()"
      ]
    },
    {
      "cell_type": "code",
      "execution_count": 25,
      "metadata": {
        "id": "qfq_xPJld8o5",
        "colab": {
          "base_uri": "https://localhost:8080/",
          "height": 617
        },
        "outputId": "e1d070fe-ba60-4631-bc4f-f8850a65c78d"
      },
      "outputs": [
        {
          "output_type": "display_data",
          "data": {
            "application/javascript": [
              "(function(root) {\n",
              "  function now() {\n",
              "    return new Date();\n",
              "  }\n",
              "\n",
              "  const force = true;\n",
              "\n",
              "  if (typeof root._bokeh_onload_callbacks === \"undefined\" || force === true) {\n",
              "    root._bokeh_onload_callbacks = [];\n",
              "    root._bokeh_is_loading = undefined;\n",
              "  }\n",
              "\n",
              "const JS_MIME_TYPE = 'application/javascript';\n",
              "  const HTML_MIME_TYPE = 'text/html';\n",
              "  const EXEC_MIME_TYPE = 'application/vnd.bokehjs_exec.v0+json';\n",
              "  const CLASS_NAME = 'output_bokeh rendered_html';\n",
              "\n",
              "  /**\n",
              "   * Render data to the DOM node\n",
              "   */\n",
              "  function render(props, node) {\n",
              "    const script = document.createElement(\"script\");\n",
              "    node.appendChild(script);\n",
              "  }\n",
              "\n",
              "  /**\n",
              "   * Handle when an output is cleared or removed\n",
              "   */\n",
              "  function handleClearOutput(event, handle) {\n",
              "    const cell = handle.cell;\n",
              "\n",
              "    const id = cell.output_area._bokeh_element_id;\n",
              "    const server_id = cell.output_area._bokeh_server_id;\n",
              "    // Clean up Bokeh references\n",
              "    if (id != null && id in Bokeh.index) {\n",
              "      Bokeh.index[id].model.document.clear();\n",
              "      delete Bokeh.index[id];\n",
              "    }\n",
              "\n",
              "    if (server_id !== undefined) {\n",
              "      // Clean up Bokeh references\n",
              "      const cmd_clean = \"from bokeh.io.state import curstate; print(curstate().uuid_to_server['\" + server_id + \"'].get_sessions()[0].document.roots[0]._id)\";\n",
              "      cell.notebook.kernel.execute(cmd_clean, {\n",
              "        iopub: {\n",
              "          output: function(msg) {\n",
              "            const id = msg.content.text.trim();\n",
              "            if (id in Bokeh.index) {\n",
              "              Bokeh.index[id].model.document.clear();\n",
              "              delete Bokeh.index[id];\n",
              "            }\n",
              "          }\n",
              "        }\n",
              "      });\n",
              "      // Destroy server and session\n",
              "      const cmd_destroy = \"import bokeh.io.notebook as ion; ion.destroy_server('\" + server_id + \"')\";\n",
              "      cell.notebook.kernel.execute(cmd_destroy);\n",
              "    }\n",
              "  }\n",
              "\n",
              "  /**\n",
              "   * Handle when a new output is added\n",
              "   */\n",
              "  function handleAddOutput(event, handle) {\n",
              "    const output_area = handle.output_area;\n",
              "    const output = handle.output;\n",
              "\n",
              "    // limit handleAddOutput to display_data with EXEC_MIME_TYPE content only\n",
              "    if ((output.output_type != \"display_data\") || (!Object.prototype.hasOwnProperty.call(output.data, EXEC_MIME_TYPE))) {\n",
              "      return\n",
              "    }\n",
              "\n",
              "    const toinsert = output_area.element.find(\".\" + CLASS_NAME.split(' ')[0]);\n",
              "\n",
              "    if (output.metadata[EXEC_MIME_TYPE][\"id\"] !== undefined) {\n",
              "      toinsert[toinsert.length - 1].firstChild.textContent = output.data[JS_MIME_TYPE];\n",
              "      // store reference to embed id on output_area\n",
              "      output_area._bokeh_element_id = output.metadata[EXEC_MIME_TYPE][\"id\"];\n",
              "    }\n",
              "    if (output.metadata[EXEC_MIME_TYPE][\"server_id\"] !== undefined) {\n",
              "      const bk_div = document.createElement(\"div\");\n",
              "      bk_div.innerHTML = output.data[HTML_MIME_TYPE];\n",
              "      const script_attrs = bk_div.children[0].attributes;\n",
              "      for (let i = 0; i < script_attrs.length; i++) {\n",
              "        toinsert[toinsert.length - 1].firstChild.setAttribute(script_attrs[i].name, script_attrs[i].value);\n",
              "        toinsert[toinsert.length - 1].firstChild.textContent = bk_div.children[0].textContent\n",
              "      }\n",
              "      // store reference to server id on output_area\n",
              "      output_area._bokeh_server_id = output.metadata[EXEC_MIME_TYPE][\"server_id\"];\n",
              "    }\n",
              "  }\n",
              "\n",
              "  function register_renderer(events, OutputArea) {\n",
              "\n",
              "    function append_mime(data, metadata, element) {\n",
              "      // create a DOM node to render to\n",
              "      const toinsert = this.create_output_subarea(\n",
              "        metadata,\n",
              "        CLASS_NAME,\n",
              "        EXEC_MIME_TYPE\n",
              "      );\n",
              "      this.keyboard_manager.register_events(toinsert);\n",
              "      // Render to node\n",
              "      const props = {data: data, metadata: metadata[EXEC_MIME_TYPE]};\n",
              "      render(props, toinsert[toinsert.length - 1]);\n",
              "      element.append(toinsert);\n",
              "      return toinsert\n",
              "    }\n",
              "\n",
              "    /* Handle when an output is cleared or removed */\n",
              "    events.on('clear_output.CodeCell', handleClearOutput);\n",
              "    events.on('delete.Cell', handleClearOutput);\n",
              "\n",
              "    /* Handle when a new output is added */\n",
              "    events.on('output_added.OutputArea', handleAddOutput);\n",
              "\n",
              "    /**\n",
              "     * Register the mime type and append_mime function with output_area\n",
              "     */\n",
              "    OutputArea.prototype.register_mime_type(EXEC_MIME_TYPE, append_mime, {\n",
              "      /* Is output safe? */\n",
              "      safe: true,\n",
              "      /* Index of renderer in `output_area.display_order` */\n",
              "      index: 0\n",
              "    });\n",
              "  }\n",
              "\n",
              "  // register the mime type if in Jupyter Notebook environment and previously unregistered\n",
              "  if (root.Jupyter !== undefined) {\n",
              "    const events = require('base/js/events');\n",
              "    const OutputArea = require('notebook/js/outputarea').OutputArea;\n",
              "\n",
              "    if (OutputArea.prototype.mime_types().indexOf(EXEC_MIME_TYPE) == -1) {\n",
              "      register_renderer(events, OutputArea);\n",
              "    }\n",
              "  }\n",
              "  if (typeof (root._bokeh_timeout) === \"undefined\" || force === true) {\n",
              "    root._bokeh_timeout = Date.now() + 5000;\n",
              "    root._bokeh_failed_load = false;\n",
              "  }\n",
              "\n",
              "  const NB_LOAD_WARNING = {'data': {'text/html':\n",
              "     \"<div style='background-color: #fdd'>\\n\"+\n",
              "     \"<p>\\n\"+\n",
              "     \"BokehJS does not appear to have successfully loaded. If loading BokehJS from CDN, this \\n\"+\n",
              "     \"may be due to a slow or bad network connection. Possible fixes:\\n\"+\n",
              "     \"</p>\\n\"+\n",
              "     \"<ul>\\n\"+\n",
              "     \"<li>re-rerun `output_notebook()` to attempt to load from CDN again, or</li>\\n\"+\n",
              "     \"<li>use INLINE resources instead, as so:</li>\\n\"+\n",
              "     \"</ul>\\n\"+\n",
              "     \"<code>\\n\"+\n",
              "     \"from bokeh.resources import INLINE\\n\"+\n",
              "     \"output_notebook(resources=INLINE)\\n\"+\n",
              "     \"</code>\\n\"+\n",
              "     \"</div>\"}};\n",
              "\n",
              "  function display_loaded() {\n",
              "    const el = document.getElementById(null);\n",
              "    if (el != null) {\n",
              "      el.textContent = \"BokehJS is loading...\";\n",
              "    }\n",
              "    if (root.Bokeh !== undefined) {\n",
              "      if (el != null) {\n",
              "        el.textContent = \"BokehJS \" + root.Bokeh.version + \" successfully loaded.\";\n",
              "      }\n",
              "    } else if (Date.now() < root._bokeh_timeout) {\n",
              "      setTimeout(display_loaded, 100)\n",
              "    }\n",
              "  }\n",
              "\n",
              "  function run_callbacks() {\n",
              "    try {\n",
              "      root._bokeh_onload_callbacks.forEach(function(callback) {\n",
              "        if (callback != null)\n",
              "          callback();\n",
              "      });\n",
              "    } finally {\n",
              "      delete root._bokeh_onload_callbacks\n",
              "    }\n",
              "    console.debug(\"Bokeh: all callbacks have finished\");\n",
              "  }\n",
              "\n",
              "  function load_libs(css_urls, js_urls, callback) {\n",
              "    if (css_urls == null) css_urls = [];\n",
              "    if (js_urls == null) js_urls = [];\n",
              "\n",
              "    root._bokeh_onload_callbacks.push(callback);\n",
              "    if (root._bokeh_is_loading > 0) {\n",
              "      console.debug(\"Bokeh: BokehJS is being loaded, scheduling callback at\", now());\n",
              "      return null;\n",
              "    }\n",
              "    if (js_urls == null || js_urls.length === 0) {\n",
              "      run_callbacks();\n",
              "      return null;\n",
              "    }\n",
              "    console.debug(\"Bokeh: BokehJS not loaded, scheduling load and callback at\", now());\n",
              "    root._bokeh_is_loading = css_urls.length + js_urls.length;\n",
              "\n",
              "    function on_load() {\n",
              "      root._bokeh_is_loading--;\n",
              "      if (root._bokeh_is_loading === 0) {\n",
              "        console.debug(\"Bokeh: all BokehJS libraries/stylesheets loaded\");\n",
              "        run_callbacks()\n",
              "      }\n",
              "    }\n",
              "\n",
              "    function on_error(url) {\n",
              "      console.error(\"failed to load \" + url);\n",
              "    }\n",
              "\n",
              "    for (let i = 0; i < css_urls.length; i++) {\n",
              "      const url = css_urls[i];\n",
              "      const element = document.createElement(\"link\");\n",
              "      element.onload = on_load;\n",
              "      element.onerror = on_error.bind(null, url);\n",
              "      element.rel = \"stylesheet\";\n",
              "      element.type = \"text/css\";\n",
              "      element.href = url;\n",
              "      console.debug(\"Bokeh: injecting link tag for BokehJS stylesheet: \", url);\n",
              "      document.body.appendChild(element);\n",
              "    }\n",
              "\n",
              "    for (let i = 0; i < js_urls.length; i++) {\n",
              "      const url = js_urls[i];\n",
              "      const element = document.createElement('script');\n",
              "      element.onload = on_load;\n",
              "      element.onerror = on_error.bind(null, url);\n",
              "      element.async = false;\n",
              "      element.src = url;\n",
              "      console.debug(\"Bokeh: injecting script tag for BokehJS library: \", url);\n",
              "      document.head.appendChild(element);\n",
              "    }\n",
              "  };\n",
              "\n",
              "  function inject_raw_css(css) {\n",
              "    const element = document.createElement(\"style\");\n",
              "    element.appendChild(document.createTextNode(css));\n",
              "    document.body.appendChild(element);\n",
              "  }\n",
              "\n",
              "  const js_urls = [\"https://cdn.bokeh.org/bokeh/release/bokeh-3.2.2.min.js\", \"https://cdn.bokeh.org/bokeh/release/bokeh-gl-3.2.2.min.js\", \"https://cdn.bokeh.org/bokeh/release/bokeh-widgets-3.2.2.min.js\", \"https://cdn.bokeh.org/bokeh/release/bokeh-tables-3.2.2.min.js\", \"https://cdn.bokeh.org/bokeh/release/bokeh-mathjax-3.2.2.min.js\"];\n",
              "  const css_urls = [];\n",
              "\n",
              "  const inline_js = [    function(Bokeh) {\n",
              "      Bokeh.set_log_level(\"info\");\n",
              "    },\n",
              "function(Bokeh) {\n",
              "    }\n",
              "  ];\n",
              "\n",
              "  function run_inline_js() {\n",
              "    if (root.Bokeh !== undefined || force === true) {\n",
              "          for (let i = 0; i < inline_js.length; i++) {\n",
              "      inline_js[i].call(root, root.Bokeh);\n",
              "    }\n",
              "} else if (Date.now() < root._bokeh_timeout) {\n",
              "      setTimeout(run_inline_js, 100);\n",
              "    } else if (!root._bokeh_failed_load) {\n",
              "      console.log(\"Bokeh: BokehJS failed to load within specified timeout.\");\n",
              "      root._bokeh_failed_load = true;\n",
              "    } else if (force !== true) {\n",
              "      const cell = $(document.getElementById(null)).parents('.cell').data().cell;\n",
              "      cell.output_area.append_execute_result(NB_LOAD_WARNING)\n",
              "    }\n",
              "  }\n",
              "\n",
              "  if (root._bokeh_is_loading === 0) {\n",
              "    console.debug(\"Bokeh: BokehJS loaded, going straight to plotting\");\n",
              "    run_inline_js();\n",
              "  } else {\n",
              "    load_libs(css_urls, js_urls, function() {\n",
              "      console.debug(\"Bokeh: BokehJS plotting callback run at\", now());\n",
              "      run_inline_js();\n",
              "    });\n",
              "  }\n",
              "}(window));"
            ],
            "application/vnd.bokehjs_load.v0+json": "(function(root) {\n  function now() {\n    return new Date();\n  }\n\n  const force = true;\n\n  if (typeof root._bokeh_onload_callbacks === \"undefined\" || force === true) {\n    root._bokeh_onload_callbacks = [];\n    root._bokeh_is_loading = undefined;\n  }\n\n\n  if (typeof (root._bokeh_timeout) === \"undefined\" || force === true) {\n    root._bokeh_timeout = Date.now() + 5000;\n    root._bokeh_failed_load = false;\n  }\n\n  const NB_LOAD_WARNING = {'data': {'text/html':\n     \"<div style='background-color: #fdd'>\\n\"+\n     \"<p>\\n\"+\n     \"BokehJS does not appear to have successfully loaded. If loading BokehJS from CDN, this \\n\"+\n     \"may be due to a slow or bad network connection. Possible fixes:\\n\"+\n     \"</p>\\n\"+\n     \"<ul>\\n\"+\n     \"<li>re-rerun `output_notebook()` to attempt to load from CDN again, or</li>\\n\"+\n     \"<li>use INLINE resources instead, as so:</li>\\n\"+\n     \"</ul>\\n\"+\n     \"<code>\\n\"+\n     \"from bokeh.resources import INLINE\\n\"+\n     \"output_notebook(resources=INLINE)\\n\"+\n     \"</code>\\n\"+\n     \"</div>\"}};\n\n  function display_loaded() {\n    const el = document.getElementById(null);\n    if (el != null) {\n      el.textContent = \"BokehJS is loading...\";\n    }\n    if (root.Bokeh !== undefined) {\n      if (el != null) {\n        el.textContent = \"BokehJS \" + root.Bokeh.version + \" successfully loaded.\";\n      }\n    } else if (Date.now() < root._bokeh_timeout) {\n      setTimeout(display_loaded, 100)\n    }\n  }\n\n  function run_callbacks() {\n    try {\n      root._bokeh_onload_callbacks.forEach(function(callback) {\n        if (callback != null)\n          callback();\n      });\n    } finally {\n      delete root._bokeh_onload_callbacks\n    }\n    console.debug(\"Bokeh: all callbacks have finished\");\n  }\n\n  function load_libs(css_urls, js_urls, callback) {\n    if (css_urls == null) css_urls = [];\n    if (js_urls == null) js_urls = [];\n\n    root._bokeh_onload_callbacks.push(callback);\n    if (root._bokeh_is_loading > 0) {\n      console.debug(\"Bokeh: BokehJS is being loaded, scheduling callback at\", now());\n      return null;\n    }\n    if (js_urls == null || js_urls.length === 0) {\n      run_callbacks();\n      return null;\n    }\n    console.debug(\"Bokeh: BokehJS not loaded, scheduling load and callback at\", now());\n    root._bokeh_is_loading = css_urls.length + js_urls.length;\n\n    function on_load() {\n      root._bokeh_is_loading--;\n      if (root._bokeh_is_loading === 0) {\n        console.debug(\"Bokeh: all BokehJS libraries/stylesheets loaded\");\n        run_callbacks()\n      }\n    }\n\n    function on_error(url) {\n      console.error(\"failed to load \" + url);\n    }\n\n    for (let i = 0; i < css_urls.length; i++) {\n      const url = css_urls[i];\n      const element = document.createElement(\"link\");\n      element.onload = on_load;\n      element.onerror = on_error.bind(null, url);\n      element.rel = \"stylesheet\";\n      element.type = \"text/css\";\n      element.href = url;\n      console.debug(\"Bokeh: injecting link tag for BokehJS stylesheet: \", url);\n      document.body.appendChild(element);\n    }\n\n    for (let i = 0; i < js_urls.length; i++) {\n      const url = js_urls[i];\n      const element = document.createElement('script');\n      element.onload = on_load;\n      element.onerror = on_error.bind(null, url);\n      element.async = false;\n      element.src = url;\n      console.debug(\"Bokeh: injecting script tag for BokehJS library: \", url);\n      document.head.appendChild(element);\n    }\n  };\n\n  function inject_raw_css(css) {\n    const element = document.createElement(\"style\");\n    element.appendChild(document.createTextNode(css));\n    document.body.appendChild(element);\n  }\n\n  const js_urls = [\"https://cdn.bokeh.org/bokeh/release/bokeh-3.2.2.min.js\", \"https://cdn.bokeh.org/bokeh/release/bokeh-gl-3.2.2.min.js\", \"https://cdn.bokeh.org/bokeh/release/bokeh-widgets-3.2.2.min.js\", \"https://cdn.bokeh.org/bokeh/release/bokeh-tables-3.2.2.min.js\", \"https://cdn.bokeh.org/bokeh/release/bokeh-mathjax-3.2.2.min.js\"];\n  const css_urls = [];\n\n  const inline_js = [    function(Bokeh) {\n      Bokeh.set_log_level(\"info\");\n    },\nfunction(Bokeh) {\n    }\n  ];\n\n  function run_inline_js() {\n    if (root.Bokeh !== undefined || force === true) {\n          for (let i = 0; i < inline_js.length; i++) {\n      inline_js[i].call(root, root.Bokeh);\n    }\n} else if (Date.now() < root._bokeh_timeout) {\n      setTimeout(run_inline_js, 100);\n    } else if (!root._bokeh_failed_load) {\n      console.log(\"Bokeh: BokehJS failed to load within specified timeout.\");\n      root._bokeh_failed_load = true;\n    } else if (force !== true) {\n      const cell = $(document.getElementById(null)).parents('.cell').data().cell;\n      cell.output_area.append_execute_result(NB_LOAD_WARNING)\n    }\n  }\n\n  if (root._bokeh_is_loading === 0) {\n    console.debug(\"Bokeh: BokehJS loaded, going straight to plotting\");\n    run_inline_js();\n  } else {\n    load_libs(css_urls, js_urls, function() {\n      console.debug(\"Bokeh: BokehJS plotting callback run at\", now());\n      run_inline_js();\n    });\n  }\n}(window));"
          },
          "metadata": {}
        },
        {
          "output_type": "display_data",
          "data": {
            "text/html": [
              "\n",
              "  <div id=\"ef77767e-0022-48e7-8049-b82cf7266349\" data-root-id=\"p1004\" style=\"display: contents;\"></div>\n"
            ]
          },
          "metadata": {}
        },
        {
          "output_type": "display_data",
          "data": {
            "application/javascript": [
              "(function(root) {\n",
              "  function embed_document(root) {\n",
              "  const docs_json = {\"9c019ee9-d2ef-408a-805d-d56423c966e3\":{\"version\":\"3.2.2\",\"title\":\"Bokeh Application\",\"roots\":[{\"type\":\"object\",\"name\":\"Figure\",\"id\":\"p1004\",\"attributes\":{\"x_range\":{\"type\":\"object\",\"name\":\"DataRange1d\",\"id\":\"p1005\"},\"y_range\":{\"type\":\"object\",\"name\":\"DataRange1d\",\"id\":\"p1006\"},\"x_scale\":{\"type\":\"object\",\"name\":\"LinearScale\",\"id\":\"p1014\"},\"y_scale\":{\"type\":\"object\",\"name\":\"LinearScale\",\"id\":\"p1015\"},\"title\":{\"type\":\"object\",\"name\":\"Title\",\"id\":\"p1007\",\"attributes\":{\"text\":\"Clusters de temperatura encontrados pelo m\\u00e9todo KMeans\",\"text_font_size\":\"18pt\"}},\"renderers\":[{\"type\":\"object\",\"name\":\"GlyphRenderer\",\"id\":\"p1051\",\"attributes\":{\"data_source\":{\"type\":\"object\",\"name\":\"ColumnDataSource\",\"id\":\"p1045\",\"attributes\":{\"selected\":{\"type\":\"object\",\"name\":\"Selection\",\"id\":\"p1046\",\"attributes\":{\"indices\":[],\"line_indices\":[]}},\"selection_policy\":{\"type\":\"object\",\"name\":\"UnionRenderers\",\"id\":\"p1047\"},\"data\":{\"type\":\"map\",\"entries\":[[\"x\",{\"type\":\"ndarray\",\"array\":{\"type\":\"bytes\",\"data\":\"AOBIZuiheEIAcMhm6KF4QgCwumfooXhCADDIZ+iheEIAkEdo6KF4QgBAx2jooXhCABBHaeiheEIAgMhp6KF4QgBwRmrooXhCAFDJauiheEIA8Elr6KF4QgDQy2vooXhCAABGbOiheEIAkMVs6KF4QgCQRW3ooXhCAPDEbeiheEIAgEVu6KF4QgAAxW7ooXhCAGBFb+iheEIAoMRv6KF4QgAwTnDooXhCAHDFcOiheEIAwERx6KF4QgBAynHooXhCAHBKcuiheEIA0Mhy6KF4QgBwQ3PooXhCAFDDc+iheEIAwEN06KF4QgBww3TooXhCAKBEdeiheEIAMMN16KF4QgDgQ3booXhCAPDEduiheEIA0EJ36KF4QgAwwnfooXhCAHBOeOiheEIAIDh56KF4QgBAT3nooXhCAPDCeeiheEIAMEN66KF4QgBAy3rooXhCAOBIe+iheEIAwMJ76KF4QgBgQHzooXhCAFDCfOiheEIAkEB96KF4QgCgyX3ooXhCAPA/fuiheEIA8MB+6KF4QgBQQH/ooXhCAEDJf+iheEIAAD+A6KF4QgDgv4DooXhCAOCggeiheEIAMMCB6KF4QgCwP4LooXhCANA3g+iheEIA4ECD6KF4QgBwvoPooXhCAKA9hOiheEIAEL6E6KF4QgDQS4XooXhCAFC9heiheEIAMD2G6KF4QgAwvobooXhCAFA9h+iheEIAQLyH6KF4QgAAPIjooXhCAJC8iOiheEIAUD+J6KF4QgDQwYnooXhCAEA7iuiheEIA8LuK6KF4QgDQOovooXhCAFC6i+iheEIAADqM6KF4QgCAuozooXhCAMA6jeiheEIAELqN6KF4QgDQOY7ooXhCAKC5juiheEIAQDmP6KF4QgBwuo/ooXhCAIA6kOiheEIA4LiQ6KF4QgBwOZHooXhCAEC7keiheEIAEDmS6KF4QgAQuJLooXhCADA4k+iheEIAgLeT6KF4QgBgN5TooXhCAHC6lOiheEIAQDeV6KF4QgDgtpXooXhCAHA6luiheEIAoLaW6KF4QgBgNpfooXhCADC2l+iheEIAADeY6KF4QgBwtpjooXhCAJA2meiheEIAwLWZ6KF4QgCgNZrooXhCAOC2muiheEIAQDWb6KF4QgAwtpvooXhCAJA1nOiheEIA8LSc6KF4QgDwNJ3ooXhCAPC0neiheEIAgDSe6KF4QgBgtJ7ooXhCAIA0n+iheEIAILaf6KF4QgDwM6DooXhCAAC4oOiheEIA4DOh6KF4QgBAs6HooXhCAEA0ouiheEIAILOi6KF4QgCQNKPooXhCANCzo+iheEIAsDWk6KF4QgBQsqTooXhCALAypeiheEIAkLKl6KF4QgAQNqbooXhCAMCzpuiheEI=\"},\"shape\":[130],\"dtype\":\"float64\",\"order\":\"little\"}],[\"y\",{\"type\":\"ndarray\",\"array\":{\"type\":\"bytes\",\"data\":\"bIMLYGdQK0CIo+UfASoqQIij5R8BKipAiKPlHwEqKkCIo+UfASoqQIij5R8BKipAbIMLYGdQK0CIo+UfASoqQIij5R8BKipAiKPlHwEqKkBsgwtgZ1ArQGyDC2BnUCtAiKPlHwEqKkBsgwtgZ1ArQIij5R8BKipAbIMLYGdQK0CIo+UfASoqQIij5R8BKipAiKPlHwEqKkCIo+UfASoqQIij5R8BKipAiKPlHwEqKkCIo+UfASoqQIij5R8BKipAiKPlHwEqKkCIo+UfASoqQIij5R8BKipAiKPlHwEqKkCIo+UfASoqQIij5R8BKipAiKPlHwEqKkCIo+UfASoqQIij5R8BKipAiKPlHwEqKkBsgwtgZ1ArQGyDC2BnUCtAiKPlHwEqKkBsgwtgZ1ArQMCA2n/PcypAF8oVIAIHK0AXyhUgAgcrQGo1A+DIKyxAF8oVIAIHK0BqNQPgyCssQBfKFSACBytA8bHkv3q9KkAXyhUgAgcrQMCA2n/PcypA8bHkv3q9KkAXyhUgAgcrQBfKFSACBytAF8oVIAIHK0BqNQPgyCssQBfKFSACBytA8bHkv3q9KkCTAgtgyuIrQIij5R8BKipAbIMLYGdQK0BsgwtgZ1ArQMCA2n/PcypAwIDaf89zKkAXyhUgAgcrQBfKFSACBytAiKPlHwEqKkDxseS/er0qQPGx5L96vSpAwIDaf89zKkBsgwtgZ1ArQGyDC2BnUCtAiKPlHwEqKkBsgwtgZ1ArQIij5R8BKipAiKPlHwEqKkCIo+UfASoqQIij5R8BKipAiKPlHwEqKkBsgwtgZ1ArQIij5R8BKipAiKPlHwEqKkCIo+UfASoqQIij5R8BKipAiKPlHwEqKkAXyhUgAgcrQIij5R8BKipAiKPlHwEqKkAXyhUgAgcrQIij5R8BKipAMAoGAFwBKUAbT/z/1bYoQBtP/P/VtihAiKPlHwEqKkCIo+UfASoqQIgl7V+8SylAG0/8/9W2KEAbT/z/1bYoQIij5R8BKipAG0/8/9W2KEAbT/z/1bYoQBtP/P/VtihAG0/8/9W2KEAbT/z/1bYoQBtP/P/VtihAMAoGAFwBKUAwCgYAXAEpQDAKBgBcASlAiKPlHwEqKkCIo+UfASoqQPNW4b8O4ClA81bhvw7gKUDzVuG/DuApQPNW4b8O4ClA81bhvw7gKUCIo+UfASoqQIij5R8BKipAiKPlHwEqKkCIo+UfASoqQIij5R8BKipAiKPlHwEqKkBsgwtgZ1ArQIij5R8BKipAiKPlHwEqKkBsgwtgZ1ArQIij5R8BKipAiKPlHwEqKkBsgwtgZ1ArQIij5R8BKipAiKPlHwEqKkCIo+UfASoqQGyDC2BnUCtAbIMLYGdQK0A=\"},\"shape\":[130],\"dtype\":\"float64\",\"order\":\"little\"}]]}}},\"view\":{\"type\":\"object\",\"name\":\"CDSView\",\"id\":\"p1052\",\"attributes\":{\"filter\":{\"type\":\"object\",\"name\":\"AllIndices\",\"id\":\"p1053\"}}},\"glyph\":{\"type\":\"object\",\"name\":\"Line\",\"id\":\"p1048\",\"attributes\":{\"x\":{\"type\":\"field\",\"field\":\"x\"},\"y\":{\"type\":\"field\",\"field\":\"y\"},\"line_color\":\"#1f77b4\",\"line_width\":2}},\"nonselection_glyph\":{\"type\":\"object\",\"name\":\"Line\",\"id\":\"p1049\",\"attributes\":{\"x\":{\"type\":\"field\",\"field\":\"x\"},\"y\":{\"type\":\"field\",\"field\":\"y\"},\"line_color\":\"#1f77b4\",\"line_alpha\":0.1,\"line_width\":2}},\"muted_glyph\":{\"type\":\"object\",\"name\":\"Line\",\"id\":\"p1050\",\"attributes\":{\"x\":{\"type\":\"field\",\"field\":\"x\"},\"y\":{\"type\":\"field\",\"field\":\"y\"},\"line_color\":\"#1f77b4\",\"line_alpha\":0.2,\"line_width\":2}}}},{\"type\":\"object\",\"name\":\"GlyphRenderer\",\"id\":\"p1060\",\"attributes\":{\"data_source\":{\"type\":\"object\",\"name\":\"ColumnDataSource\",\"id\":\"p1054\",\"attributes\":{\"selected\":{\"type\":\"object\",\"name\":\"Selection\",\"id\":\"p1055\",\"attributes\":{\"indices\":[],\"line_indices\":[]}},\"selection_policy\":{\"type\":\"object\",\"name\":\"UnionRenderers\",\"id\":\"p1056\"},\"data\":{\"type\":\"map\",\"entries\":[[\"x\",{\"type\":\"ndarray\",\"array\":{\"type\":\"bytes\",\"data\":\"AOBIZuiheEIAcMhm6KF4QgCwumfooXhCADDIZ+iheEIAkEdo6KF4QgBAx2jooXhCABBHaeiheEIAgMhp6KF4QgBwRmrooXhCAFDJauiheEIA8Elr6KF4QgDQy2vooXhCAABGbOiheEIAkMVs6KF4QgCQRW3ooXhCAPDEbeiheEIAgEVu6KF4QgAAxW7ooXhCAGBFb+iheEIAoMRv6KF4QgAwTnDooXhCAHDFcOiheEIAwERx6KF4QgBAynHooXhCAHBKcuiheEIA0Mhy6KF4QgBwQ3PooXhCAFDDc+iheEIAwEN06KF4QgBww3TooXhCAKBEdeiheEIAMMN16KF4QgDgQ3booXhCAPDEduiheEIA0EJ36KF4QgAwwnfooXhCAHBOeOiheEIAIDh56KF4QgBAT3nooXhCAPDCeeiheEIAMEN66KF4QgBAy3rooXhCAOBIe+iheEIAwMJ76KF4QgBgQHzooXhCAFDCfOiheEIAkEB96KF4QgCgyX3ooXhCAPA/fuiheEIA8MB+6KF4QgBQQH/ooXhCAEDJf+iheEIAAD+A6KF4QgDgv4DooXhCAOCggeiheEIAMMCB6KF4QgCwP4LooXhCANA3g+iheEIA4ECD6KF4QgBwvoPooXhCAKA9hOiheEIAEL6E6KF4QgDQS4XooXhCAFC9heiheEIAMD2G6KF4QgAwvobooXhCAFA9h+iheEIAQLyH6KF4QgAAPIjooXhCAJC8iOiheEIAUD+J6KF4QgDQwYnooXhCAEA7iuiheEIA8LuK6KF4QgDQOovooXhCAFC6i+iheEIAADqM6KF4QgCAuozooXhCAMA6jeiheEIAELqN6KF4QgDQOY7ooXhCAKC5juiheEIAQDmP6KF4QgBwuo/ooXhCAIA6kOiheEIA4LiQ6KF4QgBwOZHooXhCAEC7keiheEIAEDmS6KF4QgAQuJLooXhCADA4k+iheEIAgLeT6KF4QgBgN5TooXhCAHC6lOiheEIAQDeV6KF4QgDgtpXooXhCAHA6luiheEIAoLaW6KF4QgBgNpfooXhCADC2l+iheEIAADeY6KF4QgBwtpjooXhCAJA2meiheEIAwLWZ6KF4QgCgNZrooXhCAOC2muiheEIAQDWb6KF4QgAwtpvooXhCAJA1nOiheEIA8LSc6KF4QgDwNJ3ooXhCAPC0neiheEIAgDSe6KF4QgBgtJ7ooXhCAIA0n+iheEIAILaf6KF4QgDwM6DooXhCAAC4oOiheEIA4DOh6KF4QgBAs6HooXhCAEA0ouiheEIAILOi6KF4QgCQNKPooXhCANCzo+iheEIAsDWk6KF4QgBQsqTooXhCALAypeiheEIAkLKl6KF4QgAQNqbooXhCAMCzpuiheEI=\"},\"shape\":[130],\"dtype\":\"float64\",\"order\":\"little\"}],[\"y\",{\"type\":\"ndarray\",\"array\":{\"type\":\"bytes\",\"data\":\"G0/8/9W2KECIo+UfASoqQIij5R8BKipAiKPlHwEqKkCIo+UfASoqQIij5R8BKipAG0/8/9W2KECIo+UfASoqQIij5R8BKipAiKPlHwEqKkAbT/z/1bYoQBtP/P/VtihAiKPlHwEqKkAbT/z/1bYoQIij5R8BKipAG0/8/9W2KECIo+UfASoqQIij5R8BKipAiKPlHwEqKkCIo+UfASoqQIij5R8BKipAiKPlHwEqKkCIo+UfASoqQIij5R8BKipAiKPlHwEqKkCIo+UfASoqQIij5R8BKipAiKPlHwEqKkCIo+UfASoqQIij5R8BKipAiKPlHwEqKkCIo+UfASoqQIij5R8BKipAiKPlHwEqKkAbT/z/1bYoQBtP/P/VtihAiKPlHwEqKkAbT/z/1bYoQMCA2n/PcypAG0/8/9W2KEAbT/z/1bYoQBtP/P/VtihAG0/8/9W2KEAbT/z/1bYoQBtP/P/VtihAG0/8/9W2KEAbT/z/1bYoQMCA2n/PcypAG0/8/9W2KEAbT/z/1bYoQBtP/P/VtihAG0/8/9W2KEAbT/z/1bYoQBtP/P/VtihAG0/8/9W2KEAbT/z/1bYoQIij5R8BKipAG0/8/9W2KEAbT/z/1bYoQMCA2n/PcypAwIDaf89zKkAbT/z/1bYoQBtP/P/VtihAiKPlHwEqKkAbT/z/1bYoQBtP/P/VtihAwIDaf89zKkAbT/z/1bYoQBtP/P/VtihAiKPlHwEqKkAbT/z/1bYoQIij5R8BKipAiKPlHwEqKkCIo+UfASoqQIij5R8BKipAiKPlHwEqKkAbT/z/1bYoQIij5R8BKipAiKPlHwEqKkCIo+UfASoqQIij5R8BKipAiKPlHwEqKkAbT/z/1bYoQIij5R8BKipAiKPlHwEqKkAbT/z/1bYoQIij5R8BKipAMAoGAFwBKUAbT/z/1bYoQBtP/P/VtihAiKPlHwEqKkCIo+UfASoqQIgl7V+8SylAG0/8/9W2KEAbT/z/1bYoQIij5R8BKipAG0/8/9W2KEAbT/z/1bYoQBtP/P/VtihAG0/8/9W2KEAbT/z/1bYoQBtP/P/VtihAMAoGAFwBKUAwCgYAXAEpQDAKBgBcASlAiKPlHwEqKkCIo+UfASoqQPNW4b8O4ClA81bhvw7gKUDzVuG/DuApQPNW4b8O4ClA81bhvw7gKUCIo+UfASoqQIij5R8BKipAiKPlHwEqKkCIo+UfASoqQIij5R8BKipAiKPlHwEqKkAbT/z/1bYoQIij5R8BKipAiKPlHwEqKkAbT/z/1bYoQIij5R8BKipAiKPlHwEqKkAbT/z/1bYoQIij5R8BKipAiKPlHwEqKkCIo+UfASoqQBtP/P/VtihAG0/8/9W2KEA=\"},\"shape\":[130],\"dtype\":\"float64\",\"order\":\"little\"}]]}}},\"view\":{\"type\":\"object\",\"name\":\"CDSView\",\"id\":\"p1061\",\"attributes\":{\"filter\":{\"type\":\"object\",\"name\":\"AllIndices\",\"id\":\"p1062\"}}},\"glyph\":{\"type\":\"object\",\"name\":\"Patch\",\"id\":\"p1057\",\"attributes\":{\"x\":{\"type\":\"field\",\"field\":\"x\"},\"y\":{\"type\":\"field\",\"field\":\"y\"},\"line_color\":\"red\",\"line_alpha\":0.5,\"line_width\":0,\"fill_color\":\"red\",\"fill_alpha\":0.5,\"hatch_color\":\"red\",\"hatch_alpha\":0.5}},\"nonselection_glyph\":{\"type\":\"object\",\"name\":\"Patch\",\"id\":\"p1058\",\"attributes\":{\"x\":{\"type\":\"field\",\"field\":\"x\"},\"y\":{\"type\":\"field\",\"field\":\"y\"},\"line_color\":\"red\",\"line_alpha\":0.1,\"line_width\":0,\"fill_color\":\"red\",\"fill_alpha\":0.1,\"hatch_color\":\"red\",\"hatch_alpha\":0.1}},\"muted_glyph\":{\"type\":\"object\",\"name\":\"Patch\",\"id\":\"p1059\",\"attributes\":{\"x\":{\"type\":\"field\",\"field\":\"x\"},\"y\":{\"type\":\"field\",\"field\":\"y\"},\"line_color\":\"red\",\"line_alpha\":0.2,\"line_width\":0,\"fill_color\":\"red\",\"fill_alpha\":0.2,\"hatch_color\":\"red\",\"hatch_alpha\":0.2}}}}],\"toolbar\":{\"type\":\"object\",\"name\":\"Toolbar\",\"id\":\"p1013\",\"attributes\":{\"tools\":[{\"type\":\"object\",\"name\":\"PanTool\",\"id\":\"p1038\"},{\"type\":\"object\",\"name\":\"WheelZoomTool\",\"id\":\"p1039\"},{\"type\":\"object\",\"name\":\"BoxZoomTool\",\"id\":\"p1040\",\"attributes\":{\"overlay\":{\"type\":\"object\",\"name\":\"BoxAnnotation\",\"id\":\"p1041\",\"attributes\":{\"syncable\":false,\"level\":\"overlay\",\"visible\":false,\"left_units\":\"canvas\",\"right_units\":\"canvas\",\"bottom_units\":\"canvas\",\"top_units\":\"canvas\",\"line_color\":\"black\",\"line_alpha\":1.0,\"line_width\":2,\"line_dash\":[4,4],\"fill_color\":\"lightgrey\",\"fill_alpha\":0.5}}}},{\"type\":\"object\",\"name\":\"SaveTool\",\"id\":\"p1042\"},{\"type\":\"object\",\"name\":\"ResetTool\",\"id\":\"p1043\"},{\"type\":\"object\",\"name\":\"HelpTool\",\"id\":\"p1044\"}]}},\"left\":[{\"type\":\"object\",\"name\":\"LinearAxis\",\"id\":\"p1033\",\"attributes\":{\"ticker\":{\"type\":\"object\",\"name\":\"BasicTicker\",\"id\":\"p1034\",\"attributes\":{\"mantissas\":[1,2,5]}},\"formatter\":{\"type\":\"object\",\"name\":\"BasicTickFormatter\",\"id\":\"p1035\"},\"axis_label\":\"Temperatura [Celsius]\",\"axis_label_text_font_size\":\"14pt\",\"major_label_policy\":{\"type\":\"object\",\"name\":\"AllLabels\",\"id\":\"p1036\"}}}],\"below\":[{\"type\":\"object\",\"name\":\"DatetimeAxis\",\"id\":\"p1016\",\"attributes\":{\"ticker\":{\"type\":\"object\",\"name\":\"DatetimeTicker\",\"id\":\"p1017\",\"attributes\":{\"num_minor_ticks\":5,\"tickers\":[{\"type\":\"object\",\"name\":\"AdaptiveTicker\",\"id\":\"p1018\",\"attributes\":{\"num_minor_ticks\":0,\"mantissas\":[1,2,5],\"max_interval\":500.0}},{\"type\":\"object\",\"name\":\"AdaptiveTicker\",\"id\":\"p1019\",\"attributes\":{\"num_minor_ticks\":0,\"base\":60,\"mantissas\":[1,2,5,10,15,20,30],\"min_interval\":1000.0,\"max_interval\":1800000.0}},{\"type\":\"object\",\"name\":\"AdaptiveTicker\",\"id\":\"p1020\",\"attributes\":{\"num_minor_ticks\":0,\"base\":24,\"mantissas\":[1,2,4,6,8,12],\"min_interval\":3600000.0,\"max_interval\":43200000.0}},{\"type\":\"object\",\"name\":\"DaysTicker\",\"id\":\"p1021\",\"attributes\":{\"days\":[1,2,3,4,5,6,7,8,9,10,11,12,13,14,15,16,17,18,19,20,21,22,23,24,25,26,27,28,29,30,31]}},{\"type\":\"object\",\"name\":\"DaysTicker\",\"id\":\"p1022\",\"attributes\":{\"days\":[1,4,7,10,13,16,19,22,25,28]}},{\"type\":\"object\",\"name\":\"DaysTicker\",\"id\":\"p1023\",\"attributes\":{\"days\":[1,8,15,22]}},{\"type\":\"object\",\"name\":\"DaysTicker\",\"id\":\"p1024\",\"attributes\":{\"days\":[1,15]}},{\"type\":\"object\",\"name\":\"MonthsTicker\",\"id\":\"p1025\",\"attributes\":{\"months\":[0,1,2,3,4,5,6,7,8,9,10,11]}},{\"type\":\"object\",\"name\":\"MonthsTicker\",\"id\":\"p1026\",\"attributes\":{\"months\":[0,2,4,6,8,10]}},{\"type\":\"object\",\"name\":\"MonthsTicker\",\"id\":\"p1027\",\"attributes\":{\"months\":[0,4,8]}},{\"type\":\"object\",\"name\":\"MonthsTicker\",\"id\":\"p1028\",\"attributes\":{\"months\":[0,6]}},{\"type\":\"object\",\"name\":\"YearsTicker\",\"id\":\"p1029\"}]}},\"formatter\":{\"type\":\"object\",\"name\":\"DatetimeTickFormatter\",\"id\":\"p1030\"},\"axis_label\":\"Tempo\",\"axis_label_text_font_size\":\"14pt\",\"major_label_policy\":{\"type\":\"object\",\"name\":\"AllLabels\",\"id\":\"p1031\"}}}],\"center\":[{\"type\":\"object\",\"name\":\"Grid\",\"id\":\"p1032\",\"attributes\":{\"axis\":{\"id\":\"p1016\"}}},{\"type\":\"object\",\"name\":\"Grid\",\"id\":\"p1037\",\"attributes\":{\"dimension\":1,\"axis\":{\"id\":\"p1033\"}}}]}}]}};\n",
              "  const render_items = [{\"docid\":\"9c019ee9-d2ef-408a-805d-d56423c966e3\",\"roots\":{\"p1004\":\"ef77767e-0022-48e7-8049-b82cf7266349\"},\"root_ids\":[\"p1004\"]}];\n",
              "  root.Bokeh.embed.embed_items_notebook(docs_json, render_items);\n",
              "  }\n",
              "  if (root.Bokeh !== undefined) {\n",
              "    embed_document(root);\n",
              "  } else {\n",
              "    let attempts = 0;\n",
              "    const timer = setInterval(function(root) {\n",
              "      if (root.Bokeh !== undefined) {\n",
              "        clearInterval(timer);\n",
              "        embed_document(root);\n",
              "      } else {\n",
              "        attempts++;\n",
              "        if (attempts > 100) {\n",
              "          clearInterval(timer);\n",
              "          console.log(\"Bokeh: ERROR: Unable to run BokehJS code because BokehJS library is missing\");\n",
              "        }\n",
              "      }\n",
              "    }, 10, root)\n",
              "  }\n",
              "})(window);"
            ],
            "application/vnd.bokehjs_exec.v0+json": ""
          },
          "metadata": {
            "application/vnd.bokehjs_exec.v0+json": {
              "id": "p1004"
            }
          }
        }
      ],
      "source": [
        "p = figure(x_axis_type=\"datetime\",\n",
        "           title=\"Clusters de temperatura encontrados pelo método KMeans\",\n",
        "           x_axis_label='Tempo',\n",
        "           y_axis_label='Temperatura [Celsius]')\n",
        "\n",
        "p.title.text_font_size = '18pt'\n",
        "p.xaxis.axis_label_text_font_size = \"14pt\"\n",
        "p.yaxis.axis_label_text_font_size = \"14pt\"\n",
        "\n",
        "x = np.array(pd.to_datetime(stats_df.index))\n",
        "y = np.array(stats_df['payload.value'])\n",
        "n_y = np.multiply(np.array(stats_df['payload.value']),predictions)\n",
        "n_y = np.clip(n_y,np.min(y),np.max(y))\n",
        "\n",
        "# add a line renderer\n",
        "p.line(x, y, line_width=2)\n",
        "p.patch(x,n_y,color=\"red\",alpha = 0.5,line_width=0)\n",
        "\n",
        "show(p) # show the results"
      ]
    },
    {
      "cell_type": "markdown",
      "metadata": {
        "id": "C9K9Y6_ad8o5"
      },
      "source": [
        "Observe que em momento algum você precisou escolher um threshold para a divisão entre os clusters de temperatura. Muito embora esses dados representem coisas muito bem conhecidas, elas poderiam representar a situação normal de trabalho de uma máquina e a situação de superaquecimento."
      ]
    },
    {
      "cell_type": "markdown",
      "metadata": {
        "id": "AjW-8Ngjd8o5"
      },
      "source": [
        "Tipicamente em um sistema de IoT em produção, essa função por uma aplicação rodando na nuvem. A ideia aqui é apenas ilustrar esse processo usando ferramentas mais simples.\n"
      ]
    }
  ],
  "metadata": {
    "kernelspec": {
      "display_name": "Python 3",
      "language": "python",
      "name": "python3"
    },
    "language_info": {
      "codemirror_mode": {
        "name": "ipython",
        "version": 3
      },
      "file_extension": ".py",
      "mimetype": "text/x-python",
      "name": "python",
      "nbconvert_exporter": "python",
      "pygments_lexer": "ipython3",
      "version": "3.7.3"
    },
    "colab": {
      "provenance": [],
      "include_colab_link": true
    }
  },
  "nbformat": 4,
  "nbformat_minor": 0
}